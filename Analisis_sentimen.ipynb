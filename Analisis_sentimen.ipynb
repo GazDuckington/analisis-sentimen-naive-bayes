{
 "cells": [
  {
   "cell_type": "code",
   "execution_count": null,
   "metadata": {},
   "outputs": [],
   "source": [
    "import nltk\n",
    "# nltk.download('punkt', download_dir='NLTK_DATA')\n",
    "# nltk.download('stopwords', download_dir='NLTK_DATA')\n",
    "nltk.data.path.append(\"NLTK_DATA\")\n",
    "import pandas as pd\n",
    "import numpy as np\n",
    "from processing import *\n",
    "from sentiment2 import *"
   ]
  },
  {
   "cell_type": "markdown",
   "metadata": {},
   "source": [
    "# PREPARASI *TRAINING DATASET*"
   ]
  },
  {
   "cell_type": "code",
   "execution_count": null,
   "metadata": {},
   "outputs": [],
   "source": [
    "# TODO: pindah ke sqlite\n",
    "dataset = pd.read_csv(\"dataset/training_dataset.csv\")\n",
    "all_pos = dataset[dataset['label'] == 1]\n",
    "all_neg = dataset[dataset['label'] == 0]\n",
    "\n",
    "# * Training data: 80% pertama\n",
    "# * Testing data: 20% terakhir\n",
    "train_pos = all_pos[:int(len(all_pos)*0.8)]\n",
    "train_neg = all_neg[:int(len(all_neg)*0.8)]\n",
    "test_pos = all_pos[-int(len(all_pos)*0.2):]\n",
    "test_neg = all_neg[-int(len(all_neg)*0.2):]\n",
    "\n",
    "train_x = train_pos.append(train_neg, ignore_index=True)\n",
    "test_x = test_pos.append(test_neg, ignore_index=True)\n",
    "\n",
    "train_y = np.append(np.ones(len(train_pos)), np.zeros(len(train_neg)))\n",
    "test_y = np.append(np.ones(len(test_pos)), np.zeros(len(test_neg)))"
   ]
  },
  {
   "cell_type": "code",
   "execution_count": null,
   "metadata": {},
   "outputs": [],
   "source": [
    "# ld = len(dataset)\n",
    "# trp = len(train_pos)\n",
    "# tng = len(train_neg)\n",
    "# tsp = len(test_pos)\n",
    "# tsn = len(test_neg)\n",
    "# print(f\"dataset: {ld} \\n train pos: {trp} \\n train neg: {tng} \\n test pos: {tsp} \\n test neg: {tsn}\")"
   ]
  },
  {
   "cell_type": "markdown",
   "metadata": {},
   "source": [
    "# PELATIHAN *MODEL CLASSIFIER*"
   ]
  },
  {
   "cell_type": "code",
   "execution_count": null,
   "metadata": {},
   "outputs": [],
   "source": [
    "x = train_x['text']\n",
    "y = train_y\n",
    "kamus_frek = kamus_freq(x, y)"
   ]
  },
  {
   "cell_type": "code",
   "execution_count": null,
   "metadata": {},
   "outputs": [],
   "source": [
    "logprior, loglikelihood = train_nbc(kamus_frek, train_x, train_y)"
   ]
  },
  {
   "cell_type": "code",
   "execution_count": null,
   "metadata": {},
   "outputs": [],
   "source": [
    "# file = open(\"/home/gaz/dev/flask-sk/database/prior.txt\", \"w\")\n",
    "# str = repr(logprior)\n",
    "# file.write(str)\n",
    "# file.close()"
   ]
  },
  {
   "cell_type": "code",
   "execution_count": null,
   "metadata": {},
   "outputs": [],
   "source": [
    "# like = pd.DataFrame(list(loglikelihood.items()), columns = ['kata', 'likelihood'])\n",
    "# like.to_csv('/home/gaz/dev/flask-sk/database/loglikelihood.csv')"
   ]
  },
  {
   "cell_type": "markdown",
   "metadata": {},
   "source": [
    "## HASIL PENGUJIAN MODEL\n",
    "- data *training*\n",
    "- data *testing*"
   ]
  },
  {
   "cell_type": "code",
   "execution_count": null,
   "metadata": {},
   "outputs": [],
   "source": [
    "# hasil_uji = test_nbc(x, y, logprior, loglikelihood)\n",
    "# hasil_uji"
   ]
  },
  {
   "cell_type": "code",
   "execution_count": null,
   "metadata": {},
   "outputs": [],
   "source": [
    "# test = test_nbc(test_x['text'], test_y, logprior, loglikelihood)\n",
    "# test"
   ]
  },
  {
   "cell_type": "markdown",
   "metadata": {},
   "source": [
    "## UJI KESELURUHAN *DATASET*"
   ]
  },
  {
   "cell_type": "code",
   "execution_count": null,
   "metadata": {},
   "outputs": [],
   "source": [
    "# data_test = test_nbc(dataset['text'], dataset['label'], logprior, loglikelihood)\n",
    "# data_test"
   ]
  },
  {
   "cell_type": "markdown",
   "metadata": {},
   "source": [
    "## *CONFUSION MATRIX*"
   ]
  },
  {
   "cell_type": "code",
   "execution_count": null,
   "metadata": {},
   "outputs": [],
   "source": [
    "pdc = pd.DataFrame()\n",
    "pdc = dataset\n",
    "pdc['label_prediksi'] = pdc['text'].apply(lambda x: predict_nbc(x, logprior, loglikelihood))"
   ]
  },
  {
   "cell_type": "code",
   "execution_count": null,
   "metadata": {},
   "outputs": [],
   "source": [
    "# TODO: Do more testing with thresholds values from 0, 0.5, 0.8, 0.9, 1\n",
    "# * to note;\n",
    "# treshold = -0.03272669350255697\n",
    "# * default treshold is 0, why?\n",
    "def toLabel(x):\n",
    "   if x > 0:\n",
    "       return 1\n",
    "   elif x < 0:\n",
    "       return 0\n",
    "   else:\n",
    "       return \"n\"\n",
    "pdc['prediksi'] = pdc['label_prediksi'].apply(lambda x: toLabel(x))"
   ]
  },
  {
   "cell_type": "code",
   "execution_count": null,
   "metadata": {},
   "outputs": [],
   "source": [
    "tr = logprior\n",
    "def toLabel(x):\n",
    "   if x > tr:\n",
    "       return 1\n",
    "   elif x < tr:\n",
    "       return 0\n",
    "   else:\n",
    "       return \"n\"\n",
    "pdc['prediksi_tr'] = pdc['label_prediksi'].apply(lambda x: toLabel(x))"
   ]
  },
  {
   "cell_type": "code",
   "execution_count": null,
   "metadata": {},
   "outputs": [],
   "source": [
    "conf_matrix = pd.crosstab(pdc['label'], pdc['prediksi'], rownames=['Actual'], colnames=['Predicted'])\n",
    "conf_matrix"
   ]
  },
  {
   "cell_type": "code",
   "execution_count": null,
   "metadata": {},
   "outputs": [],
   "source": [
    "conf2 = pd.crosstab(pdc['label'], pdc['prediksi_tr'], rownames=['Actual'], colnames=['Predicted'])\n",
    "conf2"
   ]
  },
  {
   "cell_type": "code",
   "execution_count": null,
   "metadata": {},
   "outputs": [],
   "source": [
    "tp = 560\n",
    "tn = 647\n",
    "fp = 14\n",
    "fn = 77\n",
    "pop = tp+tn+fp+fn\n",
    "acc = (tp+tn)/pop\n",
    "mis = (fp+fn)/pop\n",
    "pre = tp/(tp+fp)\n",
    "sen = tp/(tp+fn)\n",
    "print(f\"akurasi: {acc}\\nmis-klasifikasi: {mis}\\npresisi: {pre}\\nsensitivitas: {sen}\")"
   ]
  },
  {
   "cell_type": "code",
   "execution_count": null,
   "metadata": {},
   "outputs": [],
   "source": [
    "import seaborn as sn\n",
    "import matplotlib.pyplot as plt\n",
    "\n",
    "sn.heatmap(conf_matrix, annot=True, fmt='g')\n",
    "plt.show()"
   ]
  },
  {
   "cell_type": "markdown",
   "metadata": {},
   "source": [
    "# UJI CLASSIFIER PADA ARTIKEL BERITA"
   ]
  },
  {
   "cell_type": "code",
   "execution_count": null,
   "metadata": {},
   "outputs": [],
   "source": [
    "berita = open('berita.txt', 'r')\n",
    "berita = berita.read()"
   ]
  },
  {
   "cell_type": "code",
   "execution_count": null,
   "metadata": {},
   "outputs": [],
   "source": [
    "beritanormal = normalisasi(berita)\n",
    "frekberita = freqs(beritanormal)\n",
    "# frekberita"
   ]
  },
  {
   "cell_type": "markdown",
   "metadata": {},
   "source": [
    "## SENTIMEN ARTIKEL KESELURUHAN"
   ]
  },
  {
   "cell_type": "code",
   "execution_count": null,
   "metadata": {},
   "outputs": [],
   "source": [
    "predict_nbc(berita, logprior, loglikelihood)"
   ]
  },
  {
   "cell_type": "markdown",
   "metadata": {},
   "source": [
    "## SENTIMEN ARTIKEL PER_KALIMAT"
   ]
  },
  {
   "cell_type": "code",
   "execution_count": null,
   "metadata": {},
   "outputs": [],
   "source": [
    "from nltk.tokenize import sent_tokenize\n",
    "x = pd.DataFrame()\n",
    "kalimat = sent_tokenize(berita)\n",
    "x['kalimat'] = kalimat\n",
    "x['kalimat_normal'] = x['kalimat'].apply(lambda x: normalisasi(x))"
   ]
  },
  {
   "cell_type": "code",
   "execution_count": null,
   "metadata": {},
   "outputs": [],
   "source": [
    "x['label_prediksi'] = x['kalimat'].apply(lambda x: predict_nbc(x, logprior, loglikelihood))"
   ]
  },
  {
   "cell_type": "code",
   "execution_count": null,
   "metadata": {},
   "outputs": [],
   "source": [
    "x"
   ]
  },
  {
   "cell_type": "markdown",
   "metadata": {},
   "source": [
    "## SENTIMEN ARTIKEL PER_KATA"
   ]
  },
  {
   "cell_type": "code",
   "execution_count": null,
   "metadata": {},
   "outputs": [],
   "source": [
    "berita_normal = normalisasi(berita)"
   ]
  },
  {
   "cell_type": "code",
   "execution_count": null,
   "metadata": {},
   "outputs": [],
   "source": [
    "# * predict_nbc per-kata\n",
    "def predict_perkata(text, logpri, loglik):\n",
    "    l = []\n",
    "    for w in text:\n",
    "        x = predict_nbc(w, logpri, loglik)\n",
    "        l.append({\n",
    "            w,\n",
    "            x\n",
    "            })\n",
    "    return l"
   ]
  },
  {
   "cell_type": "code",
   "execution_count": null,
   "metadata": {},
   "outputs": [],
   "source": [
    "predict_perkata(berita_normal, logprior, loglikelihood)"
   ]
  }
 ],
 "metadata": {
  "interpreter": {
   "hash": "d92af3c6c4bb61b4a94e140f67cfcbe811ad78d97fd861f368966017e940c3f3"
  },
  "kernelspec": {
   "display_name": "Python 3.8.12 64-bit ('analisis-sentimen-naive-bayes-RPxRJ-iK': pipenv)",
   "name": "python3"
  },
  "language_info": {
   "codemirror_mode": {
    "name": "ipython",
    "version": 3
   },
   "file_extension": ".py",
   "mimetype": "text/x-python",
   "name": "python",
   "nbconvert_exporter": "python",
   "pygments_lexer": "ipython3",
   "version": "3.8.12"
  },
  "orig_nbformat": 4
 },
 "nbformat": 4,
 "nbformat_minor": 2
}
