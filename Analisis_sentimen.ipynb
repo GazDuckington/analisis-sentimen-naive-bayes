{
 "cells": [
  {
   "cell_type": "code",
   "execution_count": 9,
   "metadata": {},
   "outputs": [],
   "source": [
    "import nltk\n",
    "# nltk.download('punkt', download_dir='NLTK_DATA')\n",
    "# nltk.download('stopwords', download_dir='NLTK_DATA')\n",
    "nltk.data.path.append(\"NLTK_DATA\")\n",
    "import pandas as pd\n",
    "import numpy as np\n",
    "from processing import freqs, normalisasi\n",
    "from sentiment import *"
   ]
  },
  {
   "cell_type": "markdown",
   "metadata": {},
   "source": [
    "# PREPARASI *TRAINING DATASET*"
   ]
  },
  {
   "cell_type": "code",
   "execution_count": 10,
   "metadata": {},
   "outputs": [
    {
     "name": "stderr",
     "output_type": "stream",
     "text": [
      "/tmp/ipykernel_15584/3910910574.py:13: FutureWarning: The frame.append method is deprecated and will be removed from pandas in a future version. Use pandas.concat instead.\n",
      "  train_x = train_pos.append(train_neg, ignore_index=True)\n",
      "/tmp/ipykernel_15584/3910910574.py:14: FutureWarning: The frame.append method is deprecated and will be removed from pandas in a future version. Use pandas.concat instead.\n",
      "  test_x = test_pos.append(test_neg, ignore_index=True)\n"
     ]
    }
   ],
   "source": [
    "# TODO: pindah ke sqlite\n",
    "dataset = pd.read_csv(\"dataset/training_dataset.csv\")\n",
    "all_pos = dataset[dataset['label'] == 1]\n",
    "all_neg = dataset[dataset['label'] == 0]\n",
    "\n",
    "# * Training data: 80% pertama\n",
    "# * Testing data: 20% terakhir\n",
    "train_pos = all_pos[:int(len(all_pos)*0.8)]\n",
    "train_neg = all_neg[:int(len(all_neg)*0.8)]\n",
    "test_pos = all_pos[-int(len(all_pos)*0.2):]\n",
    "test_neg = all_neg[-int(len(all_neg)*0.2):]\n",
    "\n",
    "train_x = train_pos.append(train_neg, ignore_index=True)\n",
    "test_x = test_pos.append(test_neg, ignore_index=True)\n",
    "\n",
    "train_y = np.append(np.ones(len(train_pos)), np.zeros(len(train_neg)))\n",
    "test_y = np.append(np.ones(len(test_pos)), np.zeros(len(test_neg)))"
   ]
  },
  {
   "cell_type": "code",
   "execution_count": 27,
   "metadata": {},
   "outputs": [
    {
     "name": "stdout",
     "output_type": "stream",
     "text": [
      "dataset: 1300 \n",
      " train pos: 511 \n",
      " train neg: 528 \n",
      " test pos: 127 \n",
      " test neg: 132\n"
     ]
    }
   ],
   "source": [
    "ld = len(dataset)\n",
    "trp = len(train_pos)\n",
    "tng = len(train_neg)\n",
    "tsp = len(test_pos)\n",
    "tsn = len(test_neg)\n",
    "print(f\"dataset: {ld} \\n train pos: {trp} \\n train neg: {tng} \\n test pos: {tsp} \\n test neg: {tsn}\")"
   ]
  },
  {
   "cell_type": "code",
   "execution_count": 29,
   "metadata": {},
   "outputs": [
    {
     "data": {
      "text/plain": [
       "639"
      ]
     },
     "execution_count": 29,
     "metadata": {},
     "output_type": "execute_result"
    }
   ],
   "source": [
    "len(all_pos)"
   ]
  },
  {
   "cell_type": "markdown",
   "metadata": {},
   "source": [
    "# PELATIHAN *MODEL CLASSIFIER*"
   ]
  },
  {
   "cell_type": "code",
   "execution_count": 12,
   "metadata": {},
   "outputs": [],
   "source": [
    "x = train_x['text']\n",
    "y = train_y\n",
    "kamus_frek = kamus_freq(x, y)"
   ]
  },
  {
   "cell_type": "code",
   "execution_count": null,
   "metadata": {},
   "outputs": [],
   "source": [
    "for x in kamus_frek.keys():\n",
    "    print(kamus_frek.get(x, 0))"
   ]
  },
  {
   "cell_type": "markdown",
   "metadata": {},
   "source": [
    "## logprior\n",
    "$D$ = jumlah dokumen <br>\n",
    "$D_{pos}$ = jumlah dokumen positif <br>\n",
    "$D_{neg}$ = jumlah dokumen negatif <br>\n",
    "### probabilitas dokumen positif\n",
    "$P(D_{pos}) = \\frac{D_{pos}}{D}$\n",
    "### probabilitas dokumen negatif\n",
    "$P(D_{neg}) = \\frac{D_{neg}}{D}$\n",
    "### probabilitas prior\n",
    "${logprior} = log \\left( \\frac{P(D_{pos})}{P(D_{neg})} \\right) = log \\left( \\frac{D_{pos}}{D_{neg}} \\right)$\n",
    "<br> disederhanakan, menjadi: <br>\n",
    "$logprior = P(D_{pos}) - P(D_{neg})$"
   ]
  },
  {
   "cell_type": "markdown",
   "metadata": {},
   "source": [
    "## loglikelihood\n",
    "$W$ = probabilitas positif/negatif kata <br>\n",
    "$freq$ = frekuensi kata unik yang bernilai positif/negatif <br>\n",
    "$N$ =  jumlah total kata positif/negatif <br>\n",
    "$V$ = jumlah total kata unik (panjang dokumen frekuensi) <br>\n",
    "### probabilitas kata positif\n",
    "$P(W_{pos}) = \\frac{freq_{pos} + 1}{N_{pos} + V}$\n",
    "### probabilitas kata negatif\n",
    "$P(W_{neg}) = \\frac{freq_{neg} + 1}{N_{neg} + V}$\n",
    "### likelihood kata\n",
    "$\\text{loglikelihood} = \\log \\left(\\frac{P(W_{pos})}{P(W_{neg})} \\right)$"
   ]
  },
  {
   "cell_type": "code",
   "execution_count": 13,
   "metadata": {},
   "outputs": [],
   "source": [
    "logprior, loglikelihood = train_nbc(kamus_frek, train_y)"
   ]
  },
  {
   "cell_type": "markdown",
   "metadata": {},
   "source": [
    "## HASIL PENGUJIAN MODEL\n",
    "- data *training*\n",
    "- data *testing*"
   ]
  },
  {
   "cell_type": "code",
   "execution_count": null,
   "metadata": {},
   "outputs": [],
   "source": [
    "test = test_nbc(test_x['text'], test_y, logprior, loglikelihood)\n",
    "test"
   ]
  },
  {
   "cell_type": "markdown",
   "metadata": {},
   "source": [
    "## UJI KESELURUHAN *DATASET*"
   ]
  },
  {
   "cell_type": "code",
   "execution_count": null,
   "metadata": {},
   "outputs": [],
   "source": [
    "data_test = test_nbc(dataset['text'], dataset['label'], logprior, loglikelihood)\n",
    "data_test"
   ]
  },
  {
   "cell_type": "markdown",
   "metadata": {},
   "source": [
    "## *CONFUSION MATRIX*"
   ]
  },
  {
   "cell_type": "markdown",
   "metadata": {},
   "source": [
    "## metrik-metrik\n",
    "-   TP = True Positive\n",
    "-   TN = True Negative\n",
    "-   FP = False Positive\n",
    "-   FN = False Negative\n",
    "- Populasi = TP+TN+FP+FN\n",
    "<hr>\n",
    "\n",
    "### akurasi\n",
    "\n",
    "jumlah prediksi yang benar. tidak dianjurkan sebagai metrik kunci. <br>\n",
    "$\\frac{TP+TN}{Populasi}$\n",
    "\n",
    "### miss\n",
    "\n",
    "jumlah prediksi yang salah <br>\n",
    "$\\frac{FP+FN}{Populasi}$\n",
    "\n",
    "### presisi\n",
    "\n",
    "persentase positif yang diprediksi secara akurat. jika FP = 0, maka nilai presisi 100%. <br>\n",
    "$\\frac{TP}{TP+FP}$\n",
    "\n",
    "### sensitifitas\n",
    "\n",
    "nilai positif sesungguhnya <br>\n",
    "$\\frac{TP}{TP+FN}$"
   ]
  },
  {
   "cell_type": "code",
   "execution_count": 14,
   "metadata": {},
   "outputs": [],
   "source": [
    "pdc = pd.DataFrame()\n",
    "pdc = dataset\n",
    "pdc['label_prediksi'] = pdc['text'].apply(lambda x: predict_nbc(x, logprior, loglikelihood))"
   ]
  },
  {
   "cell_type": "code",
   "execution_count": 15,
   "metadata": {},
   "outputs": [],
   "source": [
    "# TODO: Do more testing with thresholds values from 0, 0.5, 0.8, 0.9, 1\n",
    "# * to note;\n",
    "# treshold = -0.03272669350255697\n",
    "# * default treshold is 0\n",
    "def toLabel(x):\n",
    "   if x > 0:\n",
    "       return 1\n",
    "   elif x < 0:\n",
    "       return 0\n",
    "   else:\n",
    "       return \"n\"\n",
    "pdc['prediksi'] = pdc['label_prediksi'].apply(lambda x: toLabel(x))"
   ]
  },
  {
   "cell_type": "code",
   "execution_count": 16,
   "metadata": {},
   "outputs": [
    {
     "data": {
      "text/html": [
       "<div>\n",
       "<style scoped>\n",
       "    .dataframe tbody tr th:only-of-type {\n",
       "        vertical-align: middle;\n",
       "    }\n",
       "\n",
       "    .dataframe tbody tr th {\n",
       "        vertical-align: top;\n",
       "    }\n",
       "\n",
       "    .dataframe thead th {\n",
       "        text-align: right;\n",
       "    }\n",
       "</style>\n",
       "<table border=\"1\" class=\"dataframe\">\n",
       "  <thead>\n",
       "    <tr style=\"text-align: right;\">\n",
       "      <th></th>\n",
       "      <th>text</th>\n",
       "      <th>label</th>\n",
       "      <th>label_prediksi</th>\n",
       "      <th>prediksi</th>\n",
       "    </tr>\n",
       "  </thead>\n",
       "  <tbody>\n",
       "    <tr>\n",
       "      <th>0</th>\n",
       "      <td>&lt;USERNAME&gt; TOLOL!! Gak ada hubungan nya kegug...</td>\n",
       "      <td>0</td>\n",
       "      <td>-29.162351</td>\n",
       "      <td>0</td>\n",
       "    </tr>\n",
       "    <tr>\n",
       "      <th>1</th>\n",
       "      <td>Geblek lo tata...cowo bgt dibela2in balikan......</td>\n",
       "      <td>0</td>\n",
       "      <td>-7.665502</td>\n",
       "      <td>0</td>\n",
       "    </tr>\n",
       "    <tr>\n",
       "      <th>2</th>\n",
       "      <td>Kmrn termewek2 skr lengket lg duhhh kok labil ...</td>\n",
       "      <td>0</td>\n",
       "      <td>-10.987756</td>\n",
       "      <td>0</td>\n",
       "    </tr>\n",
       "    <tr>\n",
       "      <th>3</th>\n",
       "      <td>Intinya kalau kesel dengan ATT nya, gausah ke ...</td>\n",
       "      <td>0</td>\n",
       "      <td>-27.500103</td>\n",
       "      <td>0</td>\n",
       "    </tr>\n",
       "    <tr>\n",
       "      <th>4</th>\n",
       "      <td>hadewwwww permpuan itu lg!!!!sakit jiwa,knp ha...</td>\n",
       "      <td>0</td>\n",
       "      <td>-11.574785</td>\n",
       "      <td>0</td>\n",
       "    </tr>\n",
       "    <tr>\n",
       "      <th>...</th>\n",
       "      <td>...</td>\n",
       "      <td>...</td>\n",
       "      <td>...</td>\n",
       "      <td>...</td>\n",
       "    </tr>\n",
       "    <tr>\n",
       "      <th>1295</th>\n",
       "      <td>Fargo juga adaptasi dari film yang cukup berha...</td>\n",
       "      <td>1</td>\n",
       "      <td>-0.014864</td>\n",
       "      <td>0</td>\n",
       "    </tr>\n",
       "    <tr>\n",
       "      <th>1296</th>\n",
       "      <td>637.000 waw ini sangat keren flm horor dng jum...</td>\n",
       "      <td>1</td>\n",
       "      <td>3.765399</td>\n",
       "      <td>1</td>\n",
       "    </tr>\n",
       "    <tr>\n",
       "      <th>1297</th>\n",
       "      <td>@filmziarah film yang tenang dan menghanyutkan...</td>\n",
       "      <td>1</td>\n",
       "      <td>-0.278294</td>\n",
       "      <td>0</td>\n",
       "    </tr>\n",
       "    <tr>\n",
       "      <th>1298</th>\n",
       "      <td>Film yg amat menarik. Kisah cinta &amp; kesetiaan ...</td>\n",
       "      <td>1</td>\n",
       "      <td>3.855586</td>\n",
       "      <td>1</td>\n",
       "    </tr>\n",
       "    <tr>\n",
       "      <th>1299</th>\n",
       "      <td>Nntn @filmziarah , film bagus, ada kali 5 meni...</td>\n",
       "      <td>1</td>\n",
       "      <td>-4.788687</td>\n",
       "      <td>0</td>\n",
       "    </tr>\n",
       "  </tbody>\n",
       "</table>\n",
       "<p>1300 rows × 4 columns</p>\n",
       "</div>"
      ],
      "text/plain": [
       "                                                   text  label  \\\n",
       "0      <USERNAME> TOLOL!! Gak ada hubungan nya kegug...      0   \n",
       "1     Geblek lo tata...cowo bgt dibela2in balikan......      0   \n",
       "2     Kmrn termewek2 skr lengket lg duhhh kok labil ...      0   \n",
       "3     Intinya kalau kesel dengan ATT nya, gausah ke ...      0   \n",
       "4     hadewwwww permpuan itu lg!!!!sakit jiwa,knp ha...      0   \n",
       "...                                                 ...    ...   \n",
       "1295  Fargo juga adaptasi dari film yang cukup berha...      1   \n",
       "1296  637.000 waw ini sangat keren flm horor dng jum...      1   \n",
       "1297  @filmziarah film yang tenang dan menghanyutkan...      1   \n",
       "1298  Film yg amat menarik. Kisah cinta & kesetiaan ...      1   \n",
       "1299  Nntn @filmziarah , film bagus, ada kali 5 meni...      1   \n",
       "\n",
       "      label_prediksi  prediksi  \n",
       "0         -29.162351         0  \n",
       "1          -7.665502         0  \n",
       "2         -10.987756         0  \n",
       "3         -27.500103         0  \n",
       "4         -11.574785         0  \n",
       "...              ...       ...  \n",
       "1295       -0.014864         0  \n",
       "1296        3.765399         1  \n",
       "1297       -0.278294         0  \n",
       "1298        3.855586         1  \n",
       "1299       -4.788687         0  \n",
       "\n",
       "[1300 rows x 4 columns]"
      ]
     },
     "execution_count": 16,
     "metadata": {},
     "output_type": "execute_result"
    }
   ],
   "source": [
    "pdc"
   ]
  },
  {
   "cell_type": "code",
   "execution_count": null,
   "metadata": {},
   "outputs": [],
   "source": [
    "tr = logprior\n",
    "def toLabel(x):\n",
    "   if x > tr:\n",
    "       return 1\n",
    "   elif x < tr:\n",
    "       return 0\n",
    "   else:\n",
    "       return \"n\"\n",
    "pdc['prediksi_tr'] = pdc['label_prediksi'].apply(lambda x: toLabel(x))"
   ]
  },
  {
   "cell_type": "code",
   "execution_count": 17,
   "metadata": {},
   "outputs": [
    {
     "data": {
      "text/html": [
       "<div>\n",
       "<style scoped>\n",
       "    .dataframe tbody tr th:only-of-type {\n",
       "        vertical-align: middle;\n",
       "    }\n",
       "\n",
       "    .dataframe tbody tr th {\n",
       "        vertical-align: top;\n",
       "    }\n",
       "\n",
       "    .dataframe thead th {\n",
       "        text-align: right;\n",
       "    }\n",
       "</style>\n",
       "<table border=\"1\" class=\"dataframe\">\n",
       "  <thead>\n",
       "    <tr style=\"text-align: right;\">\n",
       "      <th>Predicted</th>\n",
       "      <th>0</th>\n",
       "      <th>1</th>\n",
       "    </tr>\n",
       "    <tr>\n",
       "      <th>Actual</th>\n",
       "      <th></th>\n",
       "      <th></th>\n",
       "    </tr>\n",
       "  </thead>\n",
       "  <tbody>\n",
       "    <tr>\n",
       "      <th>0</th>\n",
       "      <td>647</td>\n",
       "      <td>14</td>\n",
       "    </tr>\n",
       "    <tr>\n",
       "      <th>1</th>\n",
       "      <td>84</td>\n",
       "      <td>555</td>\n",
       "    </tr>\n",
       "  </tbody>\n",
       "</table>\n",
       "</div>"
      ],
      "text/plain": [
       "Predicted    0    1\n",
       "Actual             \n",
       "0          647   14\n",
       "1           84  555"
      ]
     },
     "execution_count": 17,
     "metadata": {},
     "output_type": "execute_result"
    }
   ],
   "source": [
    "conf_matrix = pd.crosstab(pdc['label'], pdc['prediksi'], rownames=['Actual'], colnames=['Predicted'])\n",
    "conf_matrix"
   ]
  },
  {
   "cell_type": "code",
   "execution_count": 19,
   "metadata": {},
   "outputs": [
    {
     "name": "stdout",
     "output_type": "stream",
     "text": [
      "pop=1300\n",
      "akurasi:0.9246153846153846, miss:0.07538461538461538, presisi: 0.9753954305799648, sensi: 0.8685446009389671.\n",
      " F1:0.9188741721854304\n"
     ]
    }
   ],
   "source": [
    "pop = 647+555+14+84\n",
    "a = (647+555)/pop\n",
    "m = (14+84)/pop\n",
    "p = 555/(555+14)\n",
    "s = 555/(555+84)\n",
    "print(f\"pop={pop}\\nakurasi:{a}, miss:{m}, presisi: {p}, sensi: {s}.\\n F1:{2*(p*s)/(p+s)}\")"
   ]
  },
  {
   "cell_type": "code",
   "execution_count": 45,
   "metadata": {},
   "outputs": [
    {
     "data": {
      "text/html": [
       "<div>\n",
       "<style scoped>\n",
       "    .dataframe tbody tr th:only-of-type {\n",
       "        vertical-align: middle;\n",
       "    }\n",
       "\n",
       "    .dataframe tbody tr th {\n",
       "        vertical-align: top;\n",
       "    }\n",
       "\n",
       "    .dataframe thead th {\n",
       "        text-align: right;\n",
       "    }\n",
       "</style>\n",
       "<table border=\"1\" class=\"dataframe\">\n",
       "  <thead>\n",
       "    <tr style=\"text-align: right;\">\n",
       "      <th></th>\n",
       "      <th>text</th>\n",
       "      <th>label</th>\n",
       "      <th>label_prediksi</th>\n",
       "      <th>prediksi</th>\n",
       "      <th>label_akurat</th>\n",
       "    </tr>\n",
       "  </thead>\n",
       "  <tbody>\n",
       "    <tr>\n",
       "      <th>0</th>\n",
       "      <td>&lt;USERNAME&gt; TOLOL!! Gak ada hubungan nya kegug...</td>\n",
       "      <td>0</td>\n",
       "      <td>-29.162351</td>\n",
       "      <td>0</td>\n",
       "      <td>False</td>\n",
       "    </tr>\n",
       "    <tr>\n",
       "      <th>1</th>\n",
       "      <td>Geblek lo tata...cowo bgt dibela2in balikan......</td>\n",
       "      <td>0</td>\n",
       "      <td>-7.665502</td>\n",
       "      <td>0</td>\n",
       "      <td>False</td>\n",
       "    </tr>\n",
       "    <tr>\n",
       "      <th>2</th>\n",
       "      <td>Kmrn termewek2 skr lengket lg duhhh kok labil ...</td>\n",
       "      <td>0</td>\n",
       "      <td>-10.987756</td>\n",
       "      <td>0</td>\n",
       "      <td>False</td>\n",
       "    </tr>\n",
       "    <tr>\n",
       "      <th>3</th>\n",
       "      <td>Intinya kalau kesel dengan ATT nya, gausah ke ...</td>\n",
       "      <td>0</td>\n",
       "      <td>-27.500103</td>\n",
       "      <td>0</td>\n",
       "      <td>False</td>\n",
       "    </tr>\n",
       "    <tr>\n",
       "      <th>4</th>\n",
       "      <td>hadewwwww permpuan itu lg!!!!sakit jiwa,knp ha...</td>\n",
       "      <td>0</td>\n",
       "      <td>-11.574785</td>\n",
       "      <td>0</td>\n",
       "      <td>False</td>\n",
       "    </tr>\n",
       "    <tr>\n",
       "      <th>...</th>\n",
       "      <td>...</td>\n",
       "      <td>...</td>\n",
       "      <td>...</td>\n",
       "      <td>...</td>\n",
       "      <td>...</td>\n",
       "    </tr>\n",
       "    <tr>\n",
       "      <th>1295</th>\n",
       "      <td>Fargo juga adaptasi dari film yang cukup berha...</td>\n",
       "      <td>1</td>\n",
       "      <td>-0.014864</td>\n",
       "      <td>0</td>\n",
       "      <td>False</td>\n",
       "    </tr>\n",
       "    <tr>\n",
       "      <th>1296</th>\n",
       "      <td>637.000 waw ini sangat keren flm horor dng jum...</td>\n",
       "      <td>1</td>\n",
       "      <td>3.765399</td>\n",
       "      <td>1</td>\n",
       "      <td>False</td>\n",
       "    </tr>\n",
       "    <tr>\n",
       "      <th>1297</th>\n",
       "      <td>@filmziarah film yang tenang dan menghanyutkan...</td>\n",
       "      <td>1</td>\n",
       "      <td>-0.278294</td>\n",
       "      <td>0</td>\n",
       "      <td>False</td>\n",
       "    </tr>\n",
       "    <tr>\n",
       "      <th>1298</th>\n",
       "      <td>Film yg amat menarik. Kisah cinta &amp; kesetiaan ...</td>\n",
       "      <td>1</td>\n",
       "      <td>3.855586</td>\n",
       "      <td>1</td>\n",
       "      <td>False</td>\n",
       "    </tr>\n",
       "    <tr>\n",
       "      <th>1299</th>\n",
       "      <td>Nntn @filmziarah , film bagus, ada kali 5 meni...</td>\n",
       "      <td>1</td>\n",
       "      <td>-4.788687</td>\n",
       "      <td>0</td>\n",
       "      <td>False</td>\n",
       "    </tr>\n",
       "  </tbody>\n",
       "</table>\n",
       "<p>1300 rows × 5 columns</p>\n",
       "</div>"
      ],
      "text/plain": [
       "                                                   text  label  \\\n",
       "0      <USERNAME> TOLOL!! Gak ada hubungan nya kegug...      0   \n",
       "1     Geblek lo tata...cowo bgt dibela2in balikan......      0   \n",
       "2     Kmrn termewek2 skr lengket lg duhhh kok labil ...      0   \n",
       "3     Intinya kalau kesel dengan ATT nya, gausah ke ...      0   \n",
       "4     hadewwwww permpuan itu lg!!!!sakit jiwa,knp ha...      0   \n",
       "...                                                 ...    ...   \n",
       "1295  Fargo juga adaptasi dari film yang cukup berha...      1   \n",
       "1296  637.000 waw ini sangat keren flm horor dng jum...      1   \n",
       "1297  @filmziarah film yang tenang dan menghanyutkan...      1   \n",
       "1298  Film yg amat menarik. Kisah cinta & kesetiaan ...      1   \n",
       "1299  Nntn @filmziarah , film bagus, ada kali 5 meni...      1   \n",
       "\n",
       "      label_prediksi  prediksi  label_akurat  \n",
       "0         -29.162351         0         False  \n",
       "1          -7.665502         0         False  \n",
       "2         -10.987756         0         False  \n",
       "3         -27.500103         0         False  \n",
       "4         -11.574785         0         False  \n",
       "...              ...       ...           ...  \n",
       "1295       -0.014864         0         False  \n",
       "1296        3.765399         1         False  \n",
       "1297       -0.278294         0         False  \n",
       "1298        3.855586         1         False  \n",
       "1299       -4.788687         0         False  \n",
       "\n",
       "[1300 rows x 5 columns]"
      ]
     },
     "execution_count": 45,
     "metadata": {},
     "output_type": "execute_result"
    }
   ],
   "source": [
    "pdc"
   ]
  },
  {
   "cell_type": "code",
   "execution_count": 50,
   "metadata": {},
   "outputs": [
    {
     "data": {
      "text/plain": [
       "1202"
      ]
     },
     "execution_count": 50,
     "metadata": {},
     "output_type": "execute_result"
    }
   ],
   "source": [
    "acc = 0\n",
    "for index, row in pdc.iterrows():\n",
    "    if row['prediksi'] == row['label']:\n",
    "        acc+=1\n",
    "\n",
    "acc"
   ]
  },
  {
   "cell_type": "code",
   "execution_count": null,
   "metadata": {},
   "outputs": [],
   "source": [
    "conf2 = pd.crosstab(pdc['label'], pdc['prediksi_tr'], rownames=['Actual'], colnames=['Predicted'])\n",
    "conf2"
   ]
  },
  {
   "cell_type": "code",
   "execution_count": null,
   "metadata": {},
   "outputs": [],
   "source": [
    "a2 = (647+556)/1300\n",
    "m2 = (14+83)/1300\n",
    "p2 = 556/(556+14)\n",
    "s2 = 556/(556+83)\n",
    "print(f\"akurasi:{a2}, miss:{m2}, presisi: {p2}, sensi: {s2}.\\n F1:{2*(p2*s2)/(p2+s2)}\")"
   ]
  },
  {
   "cell_type": "code",
   "execution_count": null,
   "metadata": {},
   "outputs": [],
   "source": [
    "import seaborn as sn\n",
    "import matplotlib.pyplot as plt\n",
    "\n",
    "sn.heatmap(conf_matrix, annot=True, fmt='g')\n",
    "plt.show()"
   ]
  },
  {
   "cell_type": "code",
   "execution_count": null,
   "metadata": {},
   "outputs": [],
   "source": [
    "sn.heatmap(conf2, annot=True, fmt='g')\n",
    "plt.show()"
   ]
  },
  {
   "cell_type": "markdown",
   "metadata": {},
   "source": [
    "# UJI CLASSIFIER PADA ARTIKEL BERITA"
   ]
  },
  {
   "cell_type": "code",
   "execution_count": 82,
   "metadata": {},
   "outputs": [],
   "source": [
    "berita = open('berita.txt', 'r')\n",
    "berita = berita.read()"
   ]
  },
  {
   "cell_type": "code",
   "execution_count": 83,
   "metadata": {},
   "outputs": [],
   "source": [
    "beritanormal = normalisasi(berita)\n",
    "frekberita = freqs(beritanormal)\n",
    "# frekberita"
   ]
  },
  {
   "cell_type": "markdown",
   "metadata": {},
   "source": [
    "## SENTIMEN ARTIKEL KESELURUHAN"
   ]
  },
  {
   "cell_type": "code",
   "execution_count": 84,
   "metadata": {},
   "outputs": [
    {
     "data": {
      "text/plain": [
       "-2.6912482077738114"
      ]
     },
     "execution_count": 84,
     "metadata": {},
     "output_type": "execute_result"
    }
   ],
   "source": [
    "predict_nbc(berita, logprior, loglikelihood)"
   ]
  },
  {
   "cell_type": "markdown",
   "metadata": {},
   "source": [
    "## SENTIMEN ARTIKEL PER_KALIMAT"
   ]
  },
  {
   "cell_type": "code",
   "execution_count": 117,
   "metadata": {},
   "outputs": [],
   "source": [
    "from nltk.tokenize import sent_tokenize\n",
    "x = pd.DataFrame()\n",
    "kalimat = sent_tokenize(berita)\n",
    "x['kalimat'] = kalimat\n",
    "x['kalimat_normal'] = x['kalimat'].apply(lambda x: normalisasi(x))"
   ]
  },
  {
   "cell_type": "code",
   "execution_count": 118,
   "metadata": {},
   "outputs": [],
   "source": [
    "x['label_prediksi'] = x['kalimat'].apply(lambda x: predict_nbc(x, logprior, loglikelihood))"
   ]
  },
  {
   "cell_type": "code",
   "execution_count": 119,
   "metadata": {},
   "outputs": [
    {
     "data": {
      "text/html": [
       "<div>\n",
       "<style scoped>\n",
       "    .dataframe tbody tr th:only-of-type {\n",
       "        vertical-align: middle;\n",
       "    }\n",
       "\n",
       "    .dataframe tbody tr th {\n",
       "        vertical-align: top;\n",
       "    }\n",
       "\n",
       "    .dataframe thead th {\n",
       "        text-align: right;\n",
       "    }\n",
       "</style>\n",
       "<table border=\"1\" class=\"dataframe\">\n",
       "  <thead>\n",
       "    <tr style=\"text-align: right;\">\n",
       "      <th></th>\n",
       "      <th>kalimat</th>\n",
       "      <th>kalimat_normal</th>\n",
       "      <th>label_prediksi</th>\n",
       "      <th>prediksi</th>\n",
       "    </tr>\n",
       "  </thead>\n",
       "  <tbody>\n",
       "    <tr>\n",
       "      <th>0</th>\n",
       "      <td>Saya pribadi sangat menyukai performa versi 20...</td>\n",
       "      <td>[pribadi, suka, performa, versi, asa, stabil]</td>\n",
       "      <td>-0.419612</td>\n",
       "      <td>0</td>\n",
       "    </tr>\n",
       "    <tr>\n",
       "      <th>1</th>\n",
       "      <td>Dan, hampir tidak ada masalah berarti yang say...</td>\n",
       "      <td>[arti, jumpa, sistem, operasi]</td>\n",
       "      <td>-4.239262</td>\n",
       "      <td>0</td>\n",
       "    </tr>\n",
       "    <tr>\n",
       "      <th>2</th>\n",
       "      <td>Banyak fitur baru yang sangat berguna.</td>\n",
       "      <td>[fitur]</td>\n",
       "      <td>-0.032727</td>\n",
       "      <td>0</td>\n",
       "    </tr>\n",
       "    <tr>\n",
       "      <th>3</th>\n",
       "      <td>Tapi buat saya, fitur-fitur tersebut tidak sep...</td>\n",
       "      <td>[fiturfitur, sepenuh, butuh]</td>\n",
       "      <td>-0.950725</td>\n",
       "      <td>0</td>\n",
       "    </tr>\n",
       "    <tr>\n",
       "      <th>4</th>\n",
       "      <td>Setelah merasakan enaknya pakai versi 21.10 sa...</td>\n",
       "      <td>[enak, pakai, versi, enggan, pindah, lts]</td>\n",
       "      <td>1.753910</td>\n",
       "      <td>1</td>\n",
       "    </tr>\n",
       "    <tr>\n",
       "      <th>5</th>\n",
       "      <td>Tapi, saya tetap harus beralih ke versi 21.04 ...</td>\n",
       "      <td>[alih, versi, dukung, juli]</td>\n",
       "      <td>0.371031</td>\n",
       "      <td>1</td>\n",
       "    </tr>\n",
       "    <tr>\n",
       "      <th>6</th>\n",
       "      <td>Selama beberapa bulan menggunakan OS ini, saya...</td>\n",
       "      <td>[os, puas]</td>\n",
       "      <td>-0.034434</td>\n",
       "      <td>0</td>\n",
       "    </tr>\n",
       "    <tr>\n",
       "      <th>7</th>\n",
       "      <td>Hampir tak ada kendala berarti yang saya jumpai.</td>\n",
       "      <td>[kendala, arti, jumpa]</td>\n",
       "      <td>-2.628116</td>\n",
       "      <td>0</td>\n",
       "    </tr>\n",
       "    <tr>\n",
       "      <th>8</th>\n",
       "      <td>Semua software yang biasa saya butuhkan bisa d...</td>\n",
       "      <td>[software, butuh, diinstal, jalan, lancar, ken...</td>\n",
       "      <td>1.107846</td>\n",
       "      <td>1</td>\n",
       "    </tr>\n",
       "    <tr>\n",
       "      <th>9</th>\n",
       "      <td>Mulai dari Google Chrome, WPS Office, Wine dan...</td>\n",
       "      <td>[google, chrome, wps, office, wine, playonlinu...</td>\n",
       "      <td>0.655298</td>\n",
       "      <td>1</td>\n",
       "    </tr>\n",
       "    <tr>\n",
       "      <th>10</th>\n",
       "      <td>Satu-satunya software yang terkendala dan tida...</td>\n",
       "      <td>[software, kendala, jalan, ubuntu, lts, plank]</td>\n",
       "      <td>-0.323824</td>\n",
       "      <td>0</td>\n",
       "    </tr>\n",
       "    <tr>\n",
       "      <th>11</th>\n",
       "      <td>Plank belum support Wayland sehingga tidak bis...</td>\n",
       "      <td>[plank, support, wayland, jalan, hasil, diinst...</td>\n",
       "      <td>1.689372</td>\n",
       "      <td>1</td>\n",
       "    </tr>\n",
       "  </tbody>\n",
       "</table>\n",
       "</div>"
      ],
      "text/plain": [
       "                                              kalimat  \\\n",
       "0   Saya pribadi sangat menyukai performa versi 20...   \n",
       "1   Dan, hampir tidak ada masalah berarti yang say...   \n",
       "2              Banyak fitur baru yang sangat berguna.   \n",
       "3   Tapi buat saya, fitur-fitur tersebut tidak sep...   \n",
       "4   Setelah merasakan enaknya pakai versi 21.10 sa...   \n",
       "5   Tapi, saya tetap harus beralih ke versi 21.04 ...   \n",
       "6   Selama beberapa bulan menggunakan OS ini, saya...   \n",
       "7    Hampir tak ada kendala berarti yang saya jumpai.   \n",
       "8   Semua software yang biasa saya butuhkan bisa d...   \n",
       "9   Mulai dari Google Chrome, WPS Office, Wine dan...   \n",
       "10  Satu-satunya software yang terkendala dan tida...   \n",
       "11  Plank belum support Wayland sehingga tidak bis...   \n",
       "\n",
       "                                       kalimat_normal  label_prediksi  \\\n",
       "0       [pribadi, suka, performa, versi, asa, stabil]       -0.419612   \n",
       "1                      [arti, jumpa, sistem, operasi]       -4.239262   \n",
       "2                                             [fitur]       -0.032727   \n",
       "3                        [fiturfitur, sepenuh, butuh]       -0.950725   \n",
       "4           [enak, pakai, versi, enggan, pindah, lts]        1.753910   \n",
       "5                         [alih, versi, dukung, juli]        0.371031   \n",
       "6                                          [os, puas]       -0.034434   \n",
       "7                              [kendala, arti, jumpa]       -2.628116   \n",
       "8   [software, butuh, diinstal, jalan, lancar, ken...        1.107846   \n",
       "9   [google, chrome, wps, office, wine, playonlinu...        0.655298   \n",
       "10     [software, kendala, jalan, ubuntu, lts, plank]       -0.323824   \n",
       "11  [plank, support, wayland, jalan, hasil, diinst...        1.689372   \n",
       "\n",
       "    prediksi  \n",
       "0          0  \n",
       "1          0  \n",
       "2          0  \n",
       "3          0  \n",
       "4          1  \n",
       "5          1  \n",
       "6          0  \n",
       "7          0  \n",
       "8          1  \n",
       "9          1  \n",
       "10         0  \n",
       "11         1  "
      ]
     },
     "execution_count": 119,
     "metadata": {},
     "output_type": "execute_result"
    }
   ],
   "source": [
    "x['prediksi'] = x['label_prediksi'].apply(lambda x: toLabel(x))\n",
    "x"
   ]
  },
  {
   "cell_type": "markdown",
   "metadata": {},
   "source": [
    "## SENTIMEN ARTIKEL PER_KATA"
   ]
  },
  {
   "cell_type": "code",
   "execution_count": 88,
   "metadata": {},
   "outputs": [],
   "source": [
    "berita_normal = normalisasi(berita)"
   ]
  },
  {
   "cell_type": "code",
   "execution_count": 122,
   "metadata": {},
   "outputs": [],
   "source": [
    "# * predict_nbc per-kata\n",
    "def predict_perkata(text, logpri, loglik):\n",
    "    l = []\n",
    "    for w in text:\n",
    "        x = predict_nbc(w, logpri, loglik)\n",
    "        l.append({\n",
    "            \"kata\":w,\n",
    "            \"skor\":x\n",
    "            })\n",
    "    return l"
   ]
  },
  {
   "cell_type": "code",
   "execution_count": 123,
   "metadata": {},
   "outputs": [
    {
     "data": {
      "text/plain": [
       "dict"
      ]
     },
     "execution_count": 123,
     "metadata": {},
     "output_type": "execute_result"
    }
   ],
   "source": [
    "hasil = predict_perkata(berita_normal, logprior, loglikelihood)\n",
    "type(hasil[0])"
   ]
  },
  {
   "cell_type": "code",
   "execution_count": 124,
   "metadata": {},
   "outputs": [
    {
     "data": {
      "text/plain": [
       "[{'kata': 'pribadi', 'skor': -0.034434149808107085},\n",
       " {'kata': 'suka', 'skor': 0.566339710620823},\n",
       " {'kata': 'performa', 'skor': -0.03272669350255697},\n",
       " {'kata': 'versi', 'skor': -0.03272669350255697},\n",
       " {'kata': 'asa', 'skor': -0.7275813303680525},\n",
       " {'kata': 'stabil', 'skor': -0.3221162222598881},\n",
       " {'kata': 'arti', 'skor': -1.2384069541340432},\n",
       " {'kata': 'jumpa', 'skor': -0.7275813303680526},\n",
       " {'kata': 'sistem', 'skor': -1.6438720622422076},\n",
       " {'kata': 'operasi', 'skor': -0.7275813303680526},\n",
       " {'kata': 'fitur', 'skor': -0.03272669350255697},\n",
       " {'kata': 'fiturfitur', 'skor': -0.03272669350255697},\n",
       " {'kata': 'sepenuh', 'skor': -0.03272669350255697},\n",
       " {'kata': 'butuh', 'skor': -0.9507248816822622},\n",
       " {'kata': 'enak', 'skor': 0.1478874069858475},\n",
       " {'kata': 'pakai', 'skor': -0.034434149808107085},\n",
       " {'kata': 'versi', 'skor': -0.03272669350255697},\n",
       " {'kata': 'enggan', 'skor': -0.03272669350255697},\n",
       " {'kata': 'pindah', 'skor': 1.5750037626259932},\n",
       " {'kata': 'lts', 'skor': -0.03272669350255697},\n",
       " {'kata': 'alih', 'skor': -0.03272669350255697},\n",
       " {'kata': 'versi', 'skor': -0.03272669350255697},\n",
       " {'kata': 'dukung', 'skor': 0.37103095830005717},\n",
       " {'kata': 'juli', 'skor': -0.03272669350255697},\n",
       " {'kata': 'os', 'skor': -0.03272669350255697},\n",
       " {'kata': 'puas', 'skor': -0.03443414980810731},\n",
       " {'kata': 'kendala', 'skor': -0.7275813303680526},\n",
       " {'kata': 'arti', 'skor': -1.2384069541340432},\n",
       " {'kata': 'jumpa', 'skor': -0.7275813303680526},\n",
       " {'kata': 'software', 'skor': -0.03272669350255697},\n",
       " {'kata': 'butuh', 'skor': -0.9507248816822622},\n",
       " {'kata': 'diinstal', 'skor': -0.03272669350255697},\n",
       " {'kata': 'jalan', 'skor': 0.37103095830005717},\n",
       " {'kata': 'lancar', 'skor': 2.3169411073553703},\n",
       " {'kata': 'kendala', 'skor': -0.7275813303680526},\n",
       " {'kata': 'google', 'skor': -0.7275813303680526},\n",
       " {'kata': 'chrome', 'skor': -0.03272669350255697},\n",
       " {'kata': 'wps', 'skor': -0.03272669350255697},\n",
       " {'kata': 'office', 'skor': -0.03272669350255697},\n",
       " {'kata': 'wine', 'skor': -0.03272669350255697},\n",
       " {'kata': 'playonlinux', 'skor': -0.03272669350255697},\n",
       " {'kata': 'blender', 'skor': -0.03272669350255697},\n",
       " {'kata': 'audacity', 'skor': -0.03272669350255697},\n",
       " {'kata': 'inkscape', 'skor': -0.03272669350255697},\n",
       " {'kata': 'openshot', 'skor': -0.03272669350255697},\n",
       " {'kata': 'video', 'skor': 0.946395103203619},\n",
       " {'kata': 'editor', 'skor': -0.03272669350255697},\n",
       " {'kata': 'software', 'skor': -0.03272669350255697},\n",
       " {'kata': 'ubuntu', 'skor': -0.03272669350255697},\n",
       " {'kata': 'jalan', 'skor': 0.37103095830005717},\n",
       " {'kata': 'mulus', 'skor': -0.03272669350255697},\n",
       " {'kata': 'software', 'skor': -0.03272669350255697},\n",
       " {'kata': 'kendala', 'skor': -0.7275813303680526},\n",
       " {'kata': 'jalan', 'skor': 0.37103095830005717},\n",
       " {'kata': 'ubuntu', 'skor': -0.03272669350255697},\n",
       " {'kata': 'lts', 'skor': -0.03272669350255697},\n",
       " {'kata': 'plank', 'skor': -0.03272669350255697},\n",
       " {'kata': 'plank', 'skor': -0.03272669350255697},\n",
       " {'kata': 'support', 'skor': 1.0641781388600025},\n",
       " {'kata': 'wayland', 'skor': -0.03272669350255697},\n",
       " {'kata': 'jalan', 'skor': 0.37103095830005717},\n",
       " {'kata': 'hasil', 'skor': 0.18870940150610255},\n",
       " {'kata': 'diinstall', 'skor': -0.03272669350255697}]"
      ]
     },
     "execution_count": 124,
     "metadata": {},
     "output_type": "execute_result"
    }
   ],
   "source": [
    "hasil"
   ]
  },
  {
   "cell_type": "code",
   "execution_count": 129,
   "metadata": {},
   "outputs": [
    {
     "data": {
      "text/plain": [
       "-0.03272669350255697"
      ]
     },
     "execution_count": 129,
     "metadata": {},
     "output_type": "execute_result"
    }
   ],
   "source": [
    "logprior"
   ]
  },
  {
   "cell_type": "code",
   "execution_count": 128,
   "metadata": {},
   "outputs": [],
   "source": [
    "import csv\n",
    "keys = hasil[0].keys()\n",
    "\n",
    "with open('demo-kata.csv', 'w', newline='') as file:\n",
    "    dict_writer = csv.DictWriter(file, keys)\n",
    "    dict_writer.writeheader()\n",
    "    dict_writer.writerows(hasil)"
   ]
  }
 ],
 "metadata": {
  "interpreter": {
   "hash": "d92af3c6c4bb61b4a94e140f67cfcbe811ad78d97fd861f368966017e940c3f3"
  },
  "kernelspec": {
   "display_name": "Python 3.8.12 64-bit ('analisis-sentimen-naive-bayes-RPxRJ-iK': pipenv)",
   "name": "python3"
  },
  "language_info": {
   "codemirror_mode": {
    "name": "ipython",
    "version": 3
   },
   "file_extension": ".py",
   "mimetype": "text/x-python",
   "name": "python",
   "nbconvert_exporter": "python",
   "pygments_lexer": "ipython3",
   "version": "3.8.12"
  },
  "orig_nbformat": 4
 },
 "nbformat": 4,
 "nbformat_minor": 2
}
