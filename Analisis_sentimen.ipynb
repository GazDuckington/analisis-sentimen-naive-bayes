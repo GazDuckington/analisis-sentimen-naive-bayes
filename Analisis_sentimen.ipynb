{
 "cells": [
  {
   "cell_type": "code",
   "execution_count": 34,
   "metadata": {},
   "outputs": [],
   "source": [
    "import nltk\n",
    "# nltk.download('punkt', download_dir='NLTK_DATA')\n",
    "# nltk.download('stopwords', download_dir='NLTK_DATA')\n",
    "nltk.data.path.append(\"NLTK_DATA\")\n",
    "import pandas as pd\n",
    "import numpy as np\n",
    "from processing import *\n",
    "from sentiment2 import *"
   ]
  },
  {
   "cell_type": "markdown",
   "metadata": {},
   "source": [
    "# PREPARASI *TRAINING DATASET*"
   ]
  },
  {
   "cell_type": "code",
   "execution_count": 8,
   "metadata": {},
   "outputs": [],
   "source": [
    "# TODO: pindah ke sqlite\n",
    "dataset = pd.read_csv(\"dataset/training_dataset.csv\")\n",
    "all_pos = dataset[dataset['label'] == 1]\n",
    "all_neg = dataset[dataset['label'] == 0]\n",
    "\n",
    "# * Training data: 80% pertama\n",
    "# * Testing data: 20% terakhir\n",
    "train_pos = all_pos[:int(len(all_pos)*0.8)]\n",
    "train_neg = all_neg[:int(len(all_neg)*0.8)]\n",
    "test_pos = all_pos[-int(len(all_pos)*0.2):]\n",
    "test_neg = all_neg[-int(len(all_neg)*0.2):]\n",
    "\n",
    "train_x = train_pos.append(train_neg, ignore_index=True)\n",
    "test_x = test_pos.append(test_neg, ignore_index=True)\n",
    "\n",
    "train_y = np.append(np.ones(len(train_pos)), np.zeros(len(train_neg)))\n",
    "test_y = np.append(np.ones(len(test_pos)), np.zeros(len(test_neg)))"
   ]
  },
  {
   "cell_type": "code",
   "execution_count": 9,
   "metadata": {},
   "outputs": [],
   "source": [
    "# ld = len(dataset)\n",
    "# trp = len(train_pos)\n",
    "# tng = len(train_neg)\n",
    "# tsp = len(test_pos)\n",
    "# tsn = len(test_neg)\n",
    "# print(f\"dataset: {ld} \\n train pos: {trp} \\n train neg: {tng} \\n test pos: {tsp} \\n test neg: {tsn}\")"
   ]
  },
  {
   "cell_type": "markdown",
   "metadata": {},
   "source": [
    "# PELATIHAN *MODEL CLASSIFIER*"
   ]
  },
  {
   "cell_type": "code",
   "execution_count": 10,
   "metadata": {},
   "outputs": [],
   "source": [
    "x = train_x['text']\n",
    "y = train_y\n",
    "kamus_frek = kamus_freq(x, y)"
   ]
  },
  {
   "cell_type": "code",
   "execution_count": 35,
   "metadata": {},
   "outputs": [
    {
     "ename": "TypeError",
     "evalue": "train_nbc() missing 1 required positional argument: 'train_y'",
     "output_type": "error",
     "traceback": [
      "\u001b[0;31m---------------------------------------------------------------------------\u001b[0m",
      "\u001b[0;31mTypeError\u001b[0m                                 Traceback (most recent call last)",
      "\u001b[0;32m/tmp/ipykernel_404872/2368592287.py\u001b[0m in \u001b[0;36m<module>\u001b[0;34m\u001b[0m\n\u001b[0;32m----> 1\u001b[0;31m \u001b[0mlogprior\u001b[0m\u001b[0;34m,\u001b[0m \u001b[0mloglikelihood\u001b[0m \u001b[0;34m=\u001b[0m \u001b[0mtrain_nbc\u001b[0m\u001b[0;34m(\u001b[0m\u001b[0mkamus_frek\u001b[0m\u001b[0;34m,\u001b[0m \u001b[0mtrain_y\u001b[0m\u001b[0;34m)\u001b[0m\u001b[0;34m\u001b[0m\u001b[0;34m\u001b[0m\u001b[0m\n\u001b[0m",
      "\u001b[0;31mTypeError\u001b[0m: train_nbc() missing 1 required positional argument: 'train_y'"
     ]
    }
   ],
   "source": [
    "logprior, loglikelihood = train_nbc(kamus_frek, train_y)"
   ]
  },
  {
   "cell_type": "code",
   "execution_count": 12,
   "metadata": {},
   "outputs": [],
   "source": [
    "# file = open(\"/home/gaz/dev/flask-sk/database/prior.txt\", \"w\")\n",
    "# str = repr(logprior)\n",
    "# file.write(str)\n",
    "# file.close()"
   ]
  },
  {
   "cell_type": "code",
   "execution_count": 13,
   "metadata": {},
   "outputs": [],
   "source": [
    "# like = pd.DataFrame(list(loglikelihood.items()), columns = ['kata', 'likelihood'])\n",
    "# like.to_csv('/home/gaz/dev/flask-sk/database/loglikelihood.csv')"
   ]
  },
  {
   "cell_type": "markdown",
   "metadata": {},
   "source": [
    "## HASIL PENGUJIAN MODEL\n",
    "- data *training*\n",
    "- data *testing*"
   ]
  },
  {
   "cell_type": "code",
   "execution_count": 14,
   "metadata": {},
   "outputs": [],
   "source": [
    "# hasil_uji = test_nbc(x, y, logprior, loglikelihood)\n",
    "# hasil_uji"
   ]
  },
  {
   "cell_type": "code",
   "execution_count": 15,
   "metadata": {},
   "outputs": [],
   "source": [
    "# test = test_nbc(test_x['text'], test_y, logprior, loglikelihood)\n",
    "# test"
   ]
  },
  {
   "cell_type": "markdown",
   "metadata": {},
   "source": [
    "## UJI KESELURUHAN *DATASET*"
   ]
  },
  {
   "cell_type": "code",
   "execution_count": 16,
   "metadata": {},
   "outputs": [],
   "source": [
    "# data_test = test_nbc(dataset['text'], dataset['label'], logprior, loglikelihood)\n",
    "# data_test"
   ]
  },
  {
   "cell_type": "markdown",
   "metadata": {},
   "source": [
    "## *CONFUSION MATRIX*"
   ]
  },
  {
   "cell_type": "code",
   "execution_count": 17,
   "metadata": {},
   "outputs": [],
   "source": [
    "pdc = pd.DataFrame()\n",
    "pdc = dataset\n",
    "pdc['label_prediksi'] = pdc['text'].apply(lambda x: predict_nbc(x, logprior, loglikelihood))"
   ]
  },
  {
   "cell_type": "code",
   "execution_count": 18,
   "metadata": {},
   "outputs": [],
   "source": [
    "# TODO: Do more testing with thresholds values from 0, 0.5, 0.8, 0.9, 1\n",
    "# * to note;\n",
    "# treshold = -0.03272669350255697\n",
    "# * default treshold is 0\n",
    "def toLabel(x):\n",
    "   if x > 0:\n",
    "       return 1\n",
    "   elif x < 0:\n",
    "       return 0\n",
    "   else:\n",
    "       return \"n\"\n",
    "pdc['prediksi'] = pdc['label_prediksi'].apply(lambda x: toLabel(x))"
   ]
  },
  {
   "cell_type": "code",
   "execution_count": 19,
   "metadata": {},
   "outputs": [],
   "source": [
    "tr = logprior\n",
    "def toLabel(x):\n",
    "   if x > tr:\n",
    "       return 1\n",
    "   elif x < tr:\n",
    "       return 0\n",
    "   else:\n",
    "       return \"n\"\n",
    "pdc['prediksi_tr'] = pdc['label_prediksi'].apply(lambda x: toLabel(x))"
   ]
  },
  {
   "cell_type": "code",
   "execution_count": 20,
   "metadata": {},
   "outputs": [
    {
     "data": {
      "text/html": [
       "<div>\n",
       "<style scoped>\n",
       "    .dataframe tbody tr th:only-of-type {\n",
       "        vertical-align: middle;\n",
       "    }\n",
       "\n",
       "    .dataframe tbody tr th {\n",
       "        vertical-align: top;\n",
       "    }\n",
       "\n",
       "    .dataframe thead th {\n",
       "        text-align: right;\n",
       "    }\n",
       "</style>\n",
       "<table border=\"1\" class=\"dataframe\">\n",
       "  <thead>\n",
       "    <tr style=\"text-align: right;\">\n",
       "      <th>Predicted</th>\n",
       "      <th>0</th>\n",
       "      <th>1</th>\n",
       "    </tr>\n",
       "    <tr>\n",
       "      <th>Actual</th>\n",
       "      <th></th>\n",
       "      <th></th>\n",
       "    </tr>\n",
       "  </thead>\n",
       "  <tbody>\n",
       "    <tr>\n",
       "      <th>0</th>\n",
       "      <td>647</td>\n",
       "      <td>14</td>\n",
       "    </tr>\n",
       "    <tr>\n",
       "      <th>1</th>\n",
       "      <td>84</td>\n",
       "      <td>555</td>\n",
       "    </tr>\n",
       "  </tbody>\n",
       "</table>\n",
       "</div>"
      ],
      "text/plain": [
       "Predicted    0    1\n",
       "Actual             \n",
       "0          647   14\n",
       "1           84  555"
      ]
     },
     "execution_count": 20,
     "metadata": {},
     "output_type": "execute_result"
    }
   ],
   "source": [
    "conf_matrix = pd.crosstab(pdc['label'], pdc['prediksi'], rownames=['Actual'], colnames=['Predicted'])\n",
    "conf_matrix"
   ]
  },
  {
   "cell_type": "code",
   "execution_count": 21,
   "metadata": {},
   "outputs": [
    {
     "data": {
      "text/html": [
       "<div>\n",
       "<style scoped>\n",
       "    .dataframe tbody tr th:only-of-type {\n",
       "        vertical-align: middle;\n",
       "    }\n",
       "\n",
       "    .dataframe tbody tr th {\n",
       "        vertical-align: top;\n",
       "    }\n",
       "\n",
       "    .dataframe thead th {\n",
       "        text-align: right;\n",
       "    }\n",
       "</style>\n",
       "<table border=\"1\" class=\"dataframe\">\n",
       "  <thead>\n",
       "    <tr style=\"text-align: right;\">\n",
       "      <th>Predicted</th>\n",
       "      <th>0</th>\n",
       "      <th>1</th>\n",
       "    </tr>\n",
       "    <tr>\n",
       "      <th>Actual</th>\n",
       "      <th></th>\n",
       "      <th></th>\n",
       "    </tr>\n",
       "  </thead>\n",
       "  <tbody>\n",
       "    <tr>\n",
       "      <th>0</th>\n",
       "      <td>647</td>\n",
       "      <td>14</td>\n",
       "    </tr>\n",
       "    <tr>\n",
       "      <th>1</th>\n",
       "      <td>83</td>\n",
       "      <td>556</td>\n",
       "    </tr>\n",
       "  </tbody>\n",
       "</table>\n",
       "</div>"
      ],
      "text/plain": [
       "Predicted    0    1\n",
       "Actual             \n",
       "0          647   14\n",
       "1           83  556"
      ]
     },
     "execution_count": 21,
     "metadata": {},
     "output_type": "execute_result"
    }
   ],
   "source": [
    "conf2 = pd.crosstab(pdc['label'], pdc['prediksi_tr'], rownames=['Actual'], colnames=['Predicted'])\n",
    "conf2"
   ]
  },
  {
   "cell_type": "code",
   "execution_count": 22,
   "metadata": {},
   "outputs": [
    {
     "name": "stdout",
     "output_type": "stream",
     "text": [
      "akurasi: 0.9298921417565486\n",
      "mis-klasifikasi: 0.07010785824345146\n",
      "presisi: 0.975609756097561\n",
      "sensitivitas: 0.8791208791208791\n"
     ]
    }
   ],
   "source": [
    "tp = 560\n",
    "tn = 647\n",
    "fp = 14\n",
    "fn = 77\n",
    "pop = tp+tn+fp+fn\n",
    "acc = (tp+tn)/pop\n",
    "mis = (fp+fn)/pop\n",
    "pre = tp/(tp+fp)\n",
    "sen = tp/(tp+fn)\n",
    "print(f\"akurasi: {acc}\\nmis-klasifikasi: {mis}\\npresisi: {pre}\\nsensitivitas: {sen}\")"
   ]
  },
  {
   "cell_type": "code",
   "execution_count": 23,
   "metadata": {},
   "outputs": [
    {
     "name": "stderr",
     "output_type": "stream",
     "text": [
      "Matplotlib is building the font cache; this may take a moment.\n"
     ]
    },
    {
     "data": {
      "image/png": "[encoded data removed]",
      "text/plain": [
       "<Figure size 432x288 with 2 Axes>"
      ]
     },
     "metadata": {
      "needs_background": "light"
     },
     "output_type": "display_data"
    }
   ],
   "source": [
    "import seaborn as sn\n",
    "import matplotlib.pyplot as plt\n",
    "\n",
    "sn.heatmap(conf_matrix, annot=True, fmt='g')\n",
    "plt.show()"
   ]
  },
  {
   "cell_type": "markdown",
   "metadata": {},
   "source": [
    "# UJI CLASSIFIER PADA ARTIKEL BERITA"
   ]
  },
  {
   "cell_type": "code",
   "execution_count": 24,
   "metadata": {},
   "outputs": [],
   "source": [
    "berita = open('berita.txt', 'r')\n",
    "berita = berita.read()"
   ]
  },
  {
   "cell_type": "code",
   "execution_count": 25,
   "metadata": {},
   "outputs": [],
   "source": [
    "beritanormal = normalisasi(berita)\n",
    "frekberita = freqs(beritanormal)\n",
    "# frekberita"
   ]
  },
  {
   "cell_type": "markdown",
   "metadata": {},
   "source": [
    "## SENTIMEN ARTIKEL KESELURUHAN"
   ]
  },
  {
   "cell_type": "code",
   "execution_count": 26,
   "metadata": {},
   "outputs": [
    {
     "data": {
      "text/plain": [
       "-33.43289827912097"
      ]
     },
     "execution_count": 26,
     "metadata": {},
     "output_type": "execute_result"
    }
   ],
   "source": [
    "predict_nbc(berita, logprior, loglikelihood)"
   ]
  },
  {
   "cell_type": "markdown",
   "metadata": {},
   "source": [
    "## SENTIMEN ARTIKEL PER_KALIMAT"
   ]
  },
  {
   "cell_type": "code",
   "execution_count": 27,
   "metadata": {},
   "outputs": [],
   "source": [
    "from nltk.tokenize import sent_tokenize\n",
    "x = pd.DataFrame()\n",
    "kalimat = sent_tokenize(berita)\n",
    "x['kalimat'] = kalimat\n",
    "x['kalimat_normal'] = x['kalimat'].apply(lambda x: normalisasi(x))"
   ]
  },
  {
   "cell_type": "code",
   "execution_count": 28,
   "metadata": {},
   "outputs": [],
   "source": [
    "x['label_prediksi'] = x['kalimat'].apply(lambda x: predict_nbc(x, logprior, loglikelihood))"
   ]
  },
  {
   "cell_type": "code",
   "execution_count": 29,
   "metadata": {},
   "outputs": [
    {
     "data": {
      "text/html": [
       "<div>\n",
       "<style scoped>\n",
       "    .dataframe tbody tr th:only-of-type {\n",
       "        vertical-align: middle;\n",
       "    }\n",
       "\n",
       "    .dataframe tbody tr th {\n",
       "        vertical-align: top;\n",
       "    }\n",
       "\n",
       "    .dataframe thead th {\n",
       "        text-align: right;\n",
       "    }\n",
       "</style>\n",
       "<table border=\"1\" class=\"dataframe\">\n",
       "  <thead>\n",
       "    <tr style=\"text-align: right;\">\n",
       "      <th></th>\n",
       "      <th>kalimat</th>\n",
       "      <th>kalimat_normal</th>\n",
       "      <th>label_prediksi</th>\n",
       "    </tr>\n",
       "  </thead>\n",
       "  <tbody>\n",
       "    <tr>\n",
       "      <th>0</th>\n",
       "      <td>BEIJING, KOMPAS.com - China pada Selasa (10/8/...</td>\n",
       "      <td>[beijing, kompas, china, selasa, tari, utus, l...</td>\n",
       "      <td>-2.345557</td>\n",
       "    </tr>\n",
       "    <tr>\n",
       "      <th>1</th>\n",
       "      <td>Taiwan pada Juli mengatakan akan mendirikan ka...</td>\n",
       "      <td>[taiwan, juli, kantor, wakil, vilnius, kota, l...</td>\n",
       "      <td>-2.631531</td>\n",
       "    </tr>\n",
       "    <tr>\n",
       "      <th>2</th>\n",
       "      <td>China menganggap Taiwan bukanlah negara yang b...</td>\n",
       "      <td>[china, anggap, taiwan, negara, daulat, wilayah]</td>\n",
       "      <td>-2.521048</td>\n",
       "    </tr>\n",
       "    <tr>\n",
       "      <th>3</th>\n",
       "      <td>Kementerian Luar Negeri China marah dan pada S...</td>\n",
       "      <td>[menteri, negeri, china, marah, selasa, perint...</td>\n",
       "      <td>1.176839</td>\n",
       "    </tr>\n",
       "    <tr>\n",
       "      <th>4</th>\n",
       "      <td>Keputusan Lithuania mengizinkan Taiwan mendiri...</td>\n",
       "      <td>[putus, lithuania, izin, taiwan, kantor, wakil...</td>\n",
       "      <td>-2.183537</td>\n",
       "    </tr>\n",
       "    <tr>\n",
       "      <th>5</th>\n",
       "      <td>Selain itu, Kementerian Luar Negeri China meni...</td>\n",
       "      <td>[menteri, negeri, china, nilai, lithuania, ber...</td>\n",
       "      <td>-3.240828</td>\n",
       "    </tr>\n",
       "    <tr>\n",
       "      <th>6</th>\n",
       "      <td>China yang mengklaim Taiwan sebagai bagiannya ...</td>\n",
       "      <td>[china, klaim, taiwan, janji, rebut, keras]</td>\n",
       "      <td>-1.711825</td>\n",
       "    </tr>\n",
       "    <tr>\n",
       "      <th>7</th>\n",
       "      <td>China mencoba membuat Taiwan tetap terisolasi ...</td>\n",
       "      <td>[china, coba, taiwan, isolasi, panggung, dunia...</td>\n",
       "      <td>-1.746012</td>\n",
       "    </tr>\n",
       "    <tr>\n",
       "      <th>8</th>\n",
       "      <td>Kementerian Luar Negeri China pada Selasa (10/...</td>\n",
       "      <td>[menteri, negeri, china, selasa, desak, lithua...</td>\n",
       "      <td>0.664306</td>\n",
       "    </tr>\n",
       "    <tr>\n",
       "      <th>9</th>\n",
       "      <td>Kementerian Luar Negeri Lithuania menanggapi d...</td>\n",
       "      <td>[menteri, negeri, lithuania, tanggap, kecewa, ...</td>\n",
       "      <td>-1.541926</td>\n",
       "    </tr>\n",
       "    <tr>\n",
       "      <th>10</th>\n",
       "      <td>\"Sambil menghormati prinsip satu China, (Lithu...</td>\n",
       "      <td>[hormat, prinsip, china, lithuania, tekad, kem...</td>\n",
       "      <td>0.766251</td>\n",
       "    </tr>\n",
       "    <tr>\n",
       "      <th>11</th>\n",
       "      <td>Uni Eropa mengunngkapkan \"kekecewaan\" atas lan...</td>\n",
       "      <td>[uni, eropa, mengunngkapkan, kecewa, langkah, ...</td>\n",
       "      <td>-1.136461</td>\n",
       "    </tr>\n",
       "    <tr>\n",
       "      <th>12</th>\n",
       "      <td>\"Kami tidak menganggap pembukaan kantor perwak...</td>\n",
       "      <td>[anggap, buka, kantor, wakil, taiwan, lawan, d...</td>\n",
       "      <td>-3.205277</td>\n",
       "    </tr>\n",
       "    <tr>\n",
       "      <th>13</th>\n",
       "      <td>\"Ini adalah pertama kalinya China menarik seor...</td>\n",
       "      <td>[kali, china, tarik, orang, duta, negara, angg...</td>\n",
       "      <td>-2.392681</td>\n",
       "    </tr>\n",
       "    <tr>\n",
       "      <th>14</th>\n",
       "      <td>Di Taipei, kementerian luar negeri menyebut Li...</td>\n",
       "      <td>[taipei, menteri, negeri, lithuania, mitra, pi...</td>\n",
       "      <td>-0.323824</td>\n",
       "    </tr>\n",
       "    <tr>\n",
       "      <th>15</th>\n",
       "      <td>\"Berdasarkan nilai-nilai universal demokrasi, ...</td>\n",
       "      <td>[dasar, nilai, universal, demokrasi, bebas, ha...</td>\n",
       "      <td>-3.097790</td>\n",
       "    </tr>\n",
       "    <tr>\n",
       "      <th>16</th>\n",
       "      <td>Pembukaan kantor Vilnius adalah tanda terbaru ...</td>\n",
       "      <td>[buka, kantor, vilnius, tanda, negara, baltik,...</td>\n",
       "      <td>-0.784909</td>\n",
       "    </tr>\n",
       "    <tr>\n",
       "      <th>17</th>\n",
       "      <td>Pada Mei 2021, Lithuania mengumumkan akan kelu...</td>\n",
       "      <td>[mei, lithuania, forum, kerjasama, china, nega...</td>\n",
       "      <td>0.651883</td>\n",
       "    </tr>\n",
       "    <tr>\n",
       "      <th>18</th>\n",
       "      <td>Sejak saat itu, Lithuania berjanji untuk menyu...</td>\n",
       "      <td>[lithuania, janji, sumbang, dosis, vaksin, vir...</td>\n",
       "      <td>1.350153</td>\n",
       "    </tr>\n",
       "    <tr>\n",
       "      <th>19</th>\n",
       "      <td>Pada 2019, Ceko membatalkan perjanjian kota ke...</td>\n",
       "      <td>[ceko, batal, janji, kota, kembar, beijing, me...</td>\n",
       "      <td>-1.424143</td>\n",
       "    </tr>\n",
       "    <tr>\n",
       "      <th>20</th>\n",
       "      <td>Kemudian pada 2020, pemimpin senat Ceko Milos ...</td>\n",
       "      <td>[pimpin, senat, ceko, milos, vystrcil, laku, k...</td>\n",
       "      <td>-2.202944</td>\n",
       "    </tr>\n",
       "    <tr>\n",
       "      <th>21</th>\n",
       "      <td>China memutuskan kontak resmi dengan Taiwan da...</td>\n",
       "      <td>[china, putus, kontak, resmi, taiwan, tingkat,...</td>\n",
       "      <td>-0.154593</td>\n",
       "    </tr>\n",
       "    <tr>\n",
       "      <th>22</th>\n",
       "      <td>Lalu, Tsai memenangkan kembali pemilihan denga...</td>\n",
       "      <td>[tsai, menang, pilih, telak]</td>\n",
       "      <td>1.889149</td>\n",
       "    </tr>\n",
       "    <tr>\n",
       "      <th>23</th>\n",
       "      <td>Ia menolak sikap China bahwa Taian adalah bagi...</td>\n",
       "      <td>[tolak, sikap, china, taian, china, usaha, tah...</td>\n",
       "      <td>-3.807104</td>\n",
       "    </tr>\n",
       "    <tr>\n",
       "      <th>24</th>\n",
       "      <td>Beijing dalam beberapa tahun terakhir membujuk...</td>\n",
       "      <td>[beijing, bujuk, sekutu, diplomatik, taiwan, a...</td>\n",
       "      <td>-4.264929</td>\n",
       "    </tr>\n",
       "  </tbody>\n",
       "</table>\n",
       "</div>"
      ],
      "text/plain": [
       "                                              kalimat  \\\n",
       "0   BEIJING, KOMPAS.com - China pada Selasa (10/8/...   \n",
       "1   Taiwan pada Juli mengatakan akan mendirikan ka...   \n",
       "2   China menganggap Taiwan bukanlah negara yang b...   \n",
       "3   Kementerian Luar Negeri China marah dan pada S...   \n",
       "4   Keputusan Lithuania mengizinkan Taiwan mendiri...   \n",
       "5   Selain itu, Kementerian Luar Negeri China meni...   \n",
       "6   China yang mengklaim Taiwan sebagai bagiannya ...   \n",
       "7   China mencoba membuat Taiwan tetap terisolasi ...   \n",
       "8   Kementerian Luar Negeri China pada Selasa (10/...   \n",
       "9   Kementerian Luar Negeri Lithuania menanggapi d...   \n",
       "10  \"Sambil menghormati prinsip satu China, (Lithu...   \n",
       "11  Uni Eropa mengunngkapkan \"kekecewaan\" atas lan...   \n",
       "12  \"Kami tidak menganggap pembukaan kantor perwak...   \n",
       "13  \"Ini adalah pertama kalinya China menarik seor...   \n",
       "14  Di Taipei, kementerian luar negeri menyebut Li...   \n",
       "15  \"Berdasarkan nilai-nilai universal demokrasi, ...   \n",
       "16  Pembukaan kantor Vilnius adalah tanda terbaru ...   \n",
       "17  Pada Mei 2021, Lithuania mengumumkan akan kelu...   \n",
       "18  Sejak saat itu, Lithuania berjanji untuk menyu...   \n",
       "19  Pada 2019, Ceko membatalkan perjanjian kota ke...   \n",
       "20  Kemudian pada 2020, pemimpin senat Ceko Milos ...   \n",
       "21  China memutuskan kontak resmi dengan Taiwan da...   \n",
       "22  Lalu, Tsai memenangkan kembali pemilihan denga...   \n",
       "23  Ia menolak sikap China bahwa Taian adalah bagi...   \n",
       "24  Beijing dalam beberapa tahun terakhir membujuk...   \n",
       "\n",
       "                                       kalimat_normal  label_prediksi  \n",
       "0   [beijing, kompas, china, selasa, tari, utus, l...       -2.345557  \n",
       "1   [taiwan, juli, kantor, wakil, vilnius, kota, l...       -2.631531  \n",
       "2    [china, anggap, taiwan, negara, daulat, wilayah]       -2.521048  \n",
       "3   [menteri, negeri, china, marah, selasa, perint...        1.176839  \n",
       "4   [putus, lithuania, izin, taiwan, kantor, wakil...       -2.183537  \n",
       "5   [menteri, negeri, china, nilai, lithuania, ber...       -3.240828  \n",
       "6         [china, klaim, taiwan, janji, rebut, keras]       -1.711825  \n",
       "7   [china, coba, taiwan, isolasi, panggung, dunia...       -1.746012  \n",
       "8   [menteri, negeri, china, selasa, desak, lithua...        0.664306  \n",
       "9   [menteri, negeri, lithuania, tanggap, kecewa, ...       -1.541926  \n",
       "10  [hormat, prinsip, china, lithuania, tekad, kem...        0.766251  \n",
       "11  [uni, eropa, mengunngkapkan, kecewa, langkah, ...       -1.136461  \n",
       "12  [anggap, buka, kantor, wakil, taiwan, lawan, d...       -3.205277  \n",
       "13  [kali, china, tarik, orang, duta, negara, angg...       -2.392681  \n",
       "14  [taipei, menteri, negeri, lithuania, mitra, pi...       -0.323824  \n",
       "15  [dasar, nilai, universal, demokrasi, bebas, ha...       -3.097790  \n",
       "16  [buka, kantor, vilnius, tanda, negara, baltik,...       -0.784909  \n",
       "17  [mei, lithuania, forum, kerjasama, china, nega...        0.651883  \n",
       "18  [lithuania, janji, sumbang, dosis, vaksin, vir...        1.350153  \n",
       "19  [ceko, batal, janji, kota, kembar, beijing, me...       -1.424143  \n",
       "20  [pimpin, senat, ceko, milos, vystrcil, laku, k...       -2.202944  \n",
       "21  [china, putus, kontak, resmi, taiwan, tingkat,...       -0.154593  \n",
       "22                       [tsai, menang, pilih, telak]        1.889149  \n",
       "23  [tolak, sikap, china, taian, china, usaha, tah...       -3.807104  \n",
       "24  [beijing, bujuk, sekutu, diplomatik, taiwan, a...       -4.264929  "
      ]
     },
     "execution_count": 29,
     "metadata": {},
     "output_type": "execute_result"
    }
   ],
   "source": [
    "x"
   ]
  },
  {
   "cell_type": "markdown",
   "metadata": {},
   "source": [
    "## SENTIMEN ARTIKEL PER_KATA"
   ]
  },
  {
   "cell_type": "code",
   "execution_count": 30,
   "metadata": {},
   "outputs": [],
   "source": [
    "berita_normal = normalisasi(berita)"
   ]
  },
  {
   "cell_type": "code",
   "execution_count": 31,
   "metadata": {},
   "outputs": [],
   "source": [
    "# * predict_nbc per-kata\n",
    "def predict_perkata(text, logpri, loglik):\n",
    "    l = []\n",
    "    for w in text:\n",
    "        x = predict_nbc(w, logpri, loglik)\n",
    "        l.append({\n",
    "            w,\n",
    "            x\n",
    "            })\n",
    "    return l"
   ]
  },
  {
   "cell_type": "code",
   "execution_count": 32,
   "metadata": {},
   "outputs": [
    {
     "data": {
      "text/plain": [
       "[{-0.03272669350255697, 'beijing'},\n",
       " {-0.03272669350255697, 'kompas'},\n",
       " {-0.03272669350255697, 'china'},\n",
       " {-0.03272669350255697, 'selasa'},\n",
       " {0.658713030751838, 'tari'},\n",
       " {-0.03272669350255697, 'utus'},\n",
       " {-0.03272669350255697, 'lithuania'},\n",
       " {-0.03272669350255697, 'beijing'},\n",
       " {-0.03272669350255697, 'vilnius'},\n",
       " {-0.03272669350255697, 'izin'},\n",
       " {-0.03272669350255697, 'taiwan'},\n",
       " {-0.03272669350255697, 'kantor'},\n",
       " {-1.8261936190361623, 'negara'},\n",
       " {-0.5452597735740978, 'buah'},\n",
       " {0.658713030751838, 'langkah'},\n",
       " {-0.03272669350255697, 'anggap'},\n",
       " {-0.7275813303680526, 'provokatif'},\n",
       " {-0.7275813303680526, 'perintah'},\n",
       " {-0.03272669350255697, 'china'},\n",
       " {-0.03272669350255697, 'taiwan'},\n",
       " {-0.03272669350255697, 'juli'},\n",
       " {-0.03272669350255697, 'kantor'},\n",
       " {-0.7275813303680526, 'wakil'},\n",
       " {-0.03272669350255697, 'vilnius'},\n",
       " {-0.7275813303680525, 'kota'},\n",
       " {-0.03272669350255697, 'lithuania'},\n",
       " {-0.5452597735740978, 'buah'},\n",
       " {0.658713030751838, 'langkah'},\n",
       " {-0.03272669350255697, 'anggap'},\n",
       " {-0.03272669350255697, 'china'},\n",
       " {-1.420728510927998, 'hina'},\n",
       " {-0.03272669350255697, 'diplomatik'},\n",
       " {-0.03272669350255697, 'china'},\n",
       " {-0.03272669350255697, 'anggap'},\n",
       " {-0.03272669350255697, 'taiwan'},\n",
       " {-1.8261936190361623, 'negara'},\n",
       " {-0.03272669350255697, 'daulat'},\n",
       " {-0.7275813303680526, 'wilayah'},\n",
       " {-0.03272669350255697, 'menteri'},\n",
       " {-0.03272669350255697, 'negeri'},\n",
       " {-0.03272669350255697, 'china'},\n",
       " {-0.3221162222598881, 'marah'},\n",
       " {-0.03272669350255697, 'selasa'},\n",
       " {-0.7275813303680526, 'perintah'},\n",
       " {-0.03272669350255697, 'lithuania'},\n",
       " {1.0641781388600025, 'tarik'},\n",
       " {-0.03272669350255697, 'duta'},\n",
       " {-0.03272669350255697, 'china'},\n",
       " {1.0641781388600025, 'tarik'},\n",
       " {-0.03272669350255697, 'utus'},\n",
       " {-0.03272669350255697, 'china'},\n",
       " {-0.03272669350255697, 'lithuania'},\n",
       " {-0.03272669350255697, 'lansir'},\n",
       " {-0.03272669350255697, 'afp'},\n",
       " {-0.03272669350255697, 'selasa'},\n",
       " {0.18870940150610255, 'putus'},\n",
       " {-0.03272669350255697, 'lithuania'},\n",
       " {-0.03272669350255697, 'izin'},\n",
       " {-0.03272669350255697, 'taiwan'},\n",
       " {-0.03272669350255697, 'kantor'},\n",
       " {-0.7275813303680526, 'wakil'},\n",
       " {-0.03272669350255697, 'anggap'},\n",
       " {-1.0152634028198335, 'rusak'},\n",
       " {-0.03272669350255697, 'daulat'},\n",
       " {-0.7275813303680526, 'integritas'},\n",
       " {-0.03272669350255697, 'teritorial'},\n",
       " {-0.03272669350255697, 'china'},\n",
       " {-0.03272669350255697, 'menteri'},\n",
       " {-0.03272669350255697, 'negeri'},\n",
       " {-0.03272669350255697, 'china'},\n",
       " {-1.1330464384762169, 'nilai'},\n",
       " {-0.03272669350255697, 'lithuania'},\n",
       " {-0.21675570660206178, 'berani'},\n",
       " {-0.7275813303680526, 'langgar'},\n",
       " {-0.03443414980810731, 'atur'},\n",
       " {-1.2582095814302228, 'dasar'},\n",
       " {-0.034434149808107196, 'hubung'},\n",
       " {-0.03272669350255697, 'diplomatik'},\n",
       " {-0.03272669350255697, 'china'},\n",
       " {-0.03272669350255697, 'china'},\n",
       " {-0.03272669350255697, 'klaim'},\n",
       " {-0.03272669350255697, 'taiwan'},\n",
       " {0.658713030751838, 'janji'},\n",
       " {-2.113875691487943, 'rebut'},\n",
       " {-0.3221162222598881, 'keras'},\n",
       " {-0.03272669350255697, 'china'},\n",
       " {-0.9507248816822623, 'coba'},\n",
       " {-0.03272669350255697, 'taiwan'},\n",
       " {-0.03272669350255697, 'isolasi'},\n",
       " {-0.7275813303680526, 'panggung'},\n",
       " {-0.1297443296124321, 'dunia'},\n",
       " {-1.1330464384762169, 'tolak'},\n",
       " {-0.03272669350255697, 'taiwan'},\n",
       " {-0.03272669350255697, 'resmi'},\n",
       " {-0.03272669350255697, 'pulau'},\n",
       " {-0.03272669350255697, 'legitimasi'},\n",
       " {1.0641781388600025, 'internasional'},\n",
       " {-0.03272669350255697, 'menteri'},\n",
       " {-0.03272669350255697, 'negeri'},\n",
       " {-0.03272669350255697, 'china'},\n",
       " {-0.03272669350255697, 'selasa'},\n",
       " {-0.03272669350255697, 'desak'},\n",
       " {-0.03272669350255697, 'lithuania'},\n",
       " {0.18870940150610255, 'putus'},\n",
       " {0.553352515094012, 'salah'},\n",
       " {-1.1330464384762169, 'gerak'},\n",
       " {0.37103095830005717, 'jalan'},\n",
       " {0.553352515094012, 'salah'},\n",
       " {-0.03272669350255697, 'menteri'},\n",
       " {-0.03272669350255697, 'negeri'},\n",
       " {-0.03272669350255697, 'lithuania'},\n",
       " {-1.1330464384762169, 'tanggap'},\n",
       " {-1.1330464384762169, 'kecewa'},\n",
       " {0.658713030751838, 'langkah'},\n",
       " {-0.03272669350255697, 'china'},\n",
       " {0.6587130307518381, 'hormat'},\n",
       " {0.658713030751838, 'prinsip'},\n",
       " {-0.03272669350255697, 'china'},\n",
       " {-0.03272669350255697, 'lithuania'},\n",
       " {-0.03272669350255697, 'tekad'},\n",
       " {-0.7275813303680526, 'kembang'},\n",
       " {-0.034434149808107196, 'hubung'},\n",
       " {1.0641781388600027, 'untung'},\n",
       " {-0.03272669350255697, 'taiwan'},\n",
       " {-0.7275813303680526, 'bunyi'},\n",
       " {-0.3221162222598881, 'nyata'},\n",
       " {-0.03272669350255697, 'menteri'},\n",
       " {-0.03272669350255697, 'negeri'},\n",
       " {-0.03272669350255697, 'lithuania'},\n",
       " {-0.03272669350255697, 'uni'},\n",
       " {-0.03272669350255697, 'eropa'},\n",
       " {-0.03272669350255697, 'mengunngkapkan'},\n",
       " {-1.1330464384762169, 'kecewa'},\n",
       " {0.658713030751838, 'langkah'},\n",
       " {-0.03272669350255697, 'beijing'},\n",
       " {-0.7275813303680526, 'kembang'},\n",
       " {-0.03272669350255697, 'cermat'},\n",
       " {-0.03272669350255697, 'anggap'},\n",
       " {0.946395103203619, 'buka'},\n",
       " {-0.03272669350255697, 'kantor'},\n",
       " {-0.7275813303680526, 'wakil'},\n",
       " {-0.03272669350255697, 'taiwan'},\n",
       " {-1.1330464384762169, 'lawan'},\n",
       " {-0.03272669350255697, 'duta'},\n",
       " {-0.03272669350255697, 'konsulat'},\n",
       " {-0.7275813303680526, 'langgar'},\n",
       " {-0.43989925791627166, 'bijak'},\n",
       " {-0.03272669350255697, 'china'},\n",
       " {-0.03272669350255697, 'ue'},\n",
       " {-0.03272669350255697, 'juru'},\n",
       " {-1.2871971183034752, 'bicara'},\n",
       " {-0.03272669350255697, 'blok'},\n",
       " {-0.2755962066249952, 'kali'},\n",
       " {-0.03272669350255697, 'china'},\n",
       " {1.0641781388600025, 'tarik'},\n",
       " {-1.0426623770079477, 'orang'},\n",
       " {-0.03272669350255697, 'duta'},\n",
       " {-1.8261936190361623, 'negara'},\n",
       " {-0.7275813303680526, 'anggota'},\n",
       " {-0.03272669350255697, 'uni'},\n",
       " {-0.03272669350255697, 'eropa'},\n",
       " {-0.03272669350255697, 'perihal'},\n",
       " {0.946395103203619, 'buka'},\n",
       " {-0.7275813303680526, 'tahan'},\n",
       " {-0.03272669350255697, 'kantor'},\n",
       " {-0.03272669350255697, 'taiwan'},\n",
       " {-0.03272669350255697, 'ue'},\n",
       " {-0.03272669350255697, 'taipei'},\n",
       " {-0.03272669350255697, 'menteri'},\n",
       " {-0.03272669350255697, 'negeri'},\n",
       " {-0.03272669350255697, 'lithuania'},\n",
       " {0.658713030751838, 'mitra'},\n",
       " {-1.0152634028198335, 'pikir'},\n",
       " {-0.03272669350255697, 'taiwan'},\n",
       " {-1.2582095814302228, 'dasar'},\n",
       " {-1.1330464384762169, 'nilai'},\n",
       " {-0.03272669350255697, 'universal'},\n",
       " {-0.03272669350255697, 'demokrasi'},\n",
       " {-0.43989925791627166, 'bebas'},\n",
       " {-0.2575777011223169, 'hak'},\n",
       " {-0.03272669350255697, 'asasi'},\n",
       " {-0.6704229165281038, 'manusia'},\n",
       " {1.0641781388600025, 'belah'},\n",
       " {-0.7275813303680526, 'tingkat'},\n",
       " {0.658713030751838, 'tukar'},\n",
       " {0.658713030751838, 'bidang'},\n",
       " {-0.03272669350255697, 'juru'},\n",
       " {-1.2871971183034752, 'bicara'},\n",
       " {-0.03272669350255697, 'ue'},\n",
       " {-0.03272669350255697, 'joanne'},\n",
       " {-0.03272669350255697, 'ou'},\n",
       " {0.946395103203619, 'buka'},\n",
       " {-0.03272669350255697, 'kantor'},\n",
       " {-0.03272669350255697, 'vilnius'},\n",
       " {0.658713030751838, 'tanda'},\n",
       " {-1.8261936190361623, 'negara'},\n",
       " {-0.03272669350255697, 'baltik'},\n",
       " {-0.03272669350255697, 'eropa'},\n",
       " {-0.37090638642931995, 'cari'},\n",
       " {-0.034434149808107196, 'hubung'},\n",
       " {-0.03272669350255697, 'taiwan'},\n",
       " {-0.3221162222598881, 'marah'},\n",
       " {-0.03272669350255697, 'china'},\n",
       " {1.3518602113117832, 'mei'},\n",
       " {-0.03272669350255697, 'lithuania'},\n",
       " {-0.03272669350255697, 'forum'},\n",
       " {-0.03272669350255697, 'kerjasama'},\n",
       " {-0.03272669350255697, 'china'},\n",
       " {-1.8261936190361623, 'negara'},\n",
       " {-0.03272669350255697, 'eropa'},\n",
       " {-1.1330464384762169, 'timur'},\n",
       " {-0.03272669350255697, 'forum'},\n",
       " {1.0641781388600025, 'pecah'},\n",
       " {1.0641781388600025, 'belah'},\n",
       " {-0.03272669350255697, 'lithuania'},\n",
       " {0.658713030751838, 'janji'},\n",
       " {0.658713030751838, 'sumbang'},\n",
       " {-0.03272669350255697, 'dosis'},\n",
       " {-0.03272669350255697, 'vaksin'},\n",
       " {-0.03272669350255697, 'virus'},\n",
       " {-0.03272669350255697, 'corona'},\n",
       " {-0.03272669350255697, 'taiwan'},\n",
       " {-0.03272669350255697, 'ceko'},\n",
       " {-1.420728510927998, 'batal'},\n",
       " {0.658713030751838, 'janji'},\n",
       " {-0.7275813303680525, 'kota'},\n",
       " {-0.03272669350255697, 'kembar'},\n",
       " {-0.03272669350255697, 'beijing'},\n",
       " {-0.03272669350255697, 'menandatanganinya'},\n",
       " {-0.03272669350255697, 'taipei'},\n",
       " {0.11971653001915117, 'pimpin'},\n",
       " {-0.03272669350255697, 'senat'},\n",
       " {-0.03272669350255697, 'ceko'},\n",
       " {-0.03272669350255697, 'milos'},\n",
       " {-0.03272669350255697, 'vystrcil'},\n",
       " {-1.369435216540447, 'laku'},\n",
       " {-0.03443414980810731, 'kunjung'},\n",
       " {-0.7275813303680526, 'tingkat'},\n",
       " {-0.03272669350255697, 'taiwan'},\n",
       " {-0.3221162222598881, 'marah'},\n",
       " {-0.03272669350255697, 'china'},\n",
       " {-0.03272669350255697, 'china'},\n",
       " {0.18870940150610255, 'putus'},\n",
       " {-0.03272669350255697, 'kontak'},\n",
       " {-0.03272669350255697, 'resmi'},\n",
       " {-0.03272669350255697, 'taiwan'},\n",
       " {-0.7275813303680526, 'tingkat'},\n",
       " {-0.7275813303680526, 'tekan'},\n",
       " {-0.03272669350255697, 'diplomatik'},\n",
       " {0.09909724281641538, 'pilih'},\n",
       " {0.8818565820660479, 'presiden'},\n",
       " {-0.03272669350255697, 'tsai'},\n",
       " {-0.03272669350255697, 'ingwen'},\n",
       " {-0.03272669350255697, 'tsai'},\n",
       " {1.7573253194199479, 'menang'},\n",
       " {0.09909724281641538, 'pilih'},\n",
       " {-0.03272669350255697, 'telak'},\n",
       " {-1.1330464384762169, 'tolak'},\n",
       " {-0.43989925791627166, 'sikap'},\n",
       " {-0.03272669350255697, 'china'},\n",
       " {-0.03272669350255697, 'taian'},\n",
       " {-0.03272669350255697, 'china'},\n",
       " {0.18870940150610255, 'usaha'},\n",
       " {-0.7275813303680526, 'tahan'},\n",
       " {-0.03272669350255697, 'taiwan'},\n",
       " {-1.8261936190361623, 'negara'},\n",
       " {-0.03272669350255697, 'daulat'},\n",
       " {-0.03272669350255697, 'de'},\n",
       " {-0.03272669350255697, 'facto'},\n",
       " {-0.03272669350255697, 'beijing'},\n",
       " {-0.03272669350255697, 'bujuk'},\n",
       " {-0.03272669350255697, 'sekutu'},\n",
       " {-0.03272669350255697, 'diplomatik'},\n",
       " {-0.03272669350255697, 'taiwan'},\n",
       " {-0.03272669350255697, 'alih'},\n",
       " {-1.369435216540447, 'laku'},\n",
       " {-0.7275813303680526, 'tekan'},\n",
       " {-1.1330464384762169, 'ancam'},\n",
       " {-0.03272669350255697, 'insentif'},\n",
       " {-1.1330464384762169, 'ekonomi'}]"
      ]
     },
     "execution_count": 32,
     "metadata": {},
     "output_type": "execute_result"
    }
   ],
   "source": [
    "predict_perkata(berita_normal, logprior, loglikelihood)"
   ]
  }
 ],
 "metadata": {
  "interpreter": {
   "hash": "d92af3c6c4bb61b4a94e140f67cfcbe811ad78d97fd861f368966017e940c3f3"
  },
  "kernelspec": {
   "display_name": "Python 3.8.12 64-bit ('analisis-sentimen-naive-bayes-RPxRJ-iK': pipenv)",
   "name": "python3"
  },
  "language_info": {
   "codemirror_mode": {
    "name": "ipython",
    "version": 3
   },
   "file_extension": ".py",
   "mimetype": "text/x-python",
   "name": "python",
   "nbconvert_exporter": "python",
   "pygments_lexer": "ipython3",
   "version": "3.8.12"
  },
  "orig_nbformat": 4
 },
 "nbformat": 4,
 "nbformat_minor": 2
}
