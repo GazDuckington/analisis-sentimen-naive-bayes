{
 "cells": [
  {
   "cell_type": "code",
   "execution_count": 1,
   "metadata": {},
   "outputs": [],
   "source": [
    "import nltk\n",
    "# nltk.download('punkt', download_dir='NLTK_DATA')\n",
    "# nltk.download('stopwords', download_dir='NLTK_DATA')\n",
    "nltk.data.path.append(\"NLTK_DATA\")\n",
    "import pandas as pd\n",
    "import numpy as np\n",
    "from processing import freqs, normalisasi\n",
    "from sentiment import *"
   ]
  },
  {
   "cell_type": "markdown",
   "metadata": {},
   "source": [
    "# PREPARASI _TRAINING DATASET_\n"
   ]
  },
  {
   "cell_type": "code",
   "execution_count": 2,
   "metadata": {},
   "outputs": [
    {
     "name": "stderr",
     "output_type": "stream",
     "text": [
      "/tmp/ipykernel_1808969/400611212.py:13: FutureWarning: The frame.append method is deprecated and will be removed from pandas in a future version. Use pandas.concat instead.\n",
      "  train_x = train_pos.append(train_neg, ignore_index=True)\n",
      "/tmp/ipykernel_1808969/400611212.py:14: FutureWarning: The frame.append method is deprecated and will be removed from pandas in a future version. Use pandas.concat instead.\n",
      "  test_x = test_pos.append(test_neg, ignore_index=True)\n"
     ]
    }
   ],
   "source": [
    "# TODO: pindah ke sqlite\n",
    "dataset = pd.read_csv(\"dataset/training_dataset.csv\")\n",
    "all_pos = dataset[dataset['label'] == 1]\n",
    "all_neg = dataset[dataset['label'] == 0]\n",
    "\n",
    "# ** Training data: 80% pertama\n",
    "# ** Testing data: 20% terakhir\n",
    "train_pos = all_pos[:int(len(all_pos)*0.8)]\n",
    "train_neg = all_neg[:int(len(all_neg)*0.8)]\n",
    "test_pos = all_pos[-int(len(all_pos)*0.2):]\n",
    "test_neg = all_neg[-int(len(all_neg)*0.2):]\n",
    "\n",
    "train_x = train_pos.append(train_neg, ignore_index=True)\n",
    "test_x = test_pos.append(test_neg, ignore_index=True)\n",
    "\n",
    "train_y = np.append(np.ones(len(train_pos)), np.zeros(len(train_neg)))\n",
    "test_y = np.append(np.ones(len(test_pos)), np.zeros(len(test_neg)))"
   ]
  },
  {
   "cell_type": "code",
   "execution_count": 3,
   "metadata": {},
   "outputs": [
    {
     "name": "stdout",
     "output_type": "stream",
     "text": [
      "dataset: 1300 \n",
      " train pos: 511 \n",
      " train neg: 528 \n",
      " test pos: 127 \n",
      " test neg: 132\n"
     ]
    }
   ],
   "source": [
    "ld = len(dataset)\n",
    "trp = len(train_pos)\n",
    "tng = len(train_neg)\n",
    "tsp = len(test_pos)\n",
    "tsn = len(test_neg)\n",
    "print(f\"dataset: {ld} \\n train pos: {trp} \\n train neg: {tng} \\n test pos: {tsp} \\n test neg: {tsn}\")"
   ]
  },
  {
   "cell_type": "code",
   "execution_count": 4,
   "metadata": {},
   "outputs": [
    {
     "data": {
      "text/plain": [
       "639"
      ]
     },
     "execution_count": 4,
     "metadata": {},
     "output_type": "execute_result"
    }
   ],
   "source": [
    "len(all_pos)"
   ]
  },
  {
   "cell_type": "code",
   "execution_count": 5,
   "metadata": {},
   "outputs": [
    {
     "data": {
      "text/html": [
       "<div>\n",
       "<style scoped>\n",
       "    .dataframe tbody tr th:only-of-type {\n",
       "        vertical-align: middle;\n",
       "    }\n",
       "\n",
       "    .dataframe tbody tr th {\n",
       "        vertical-align: top;\n",
       "    }\n",
       "\n",
       "    .dataframe thead th {\n",
       "        text-align: right;\n",
       "    }\n",
       "</style>\n",
       "<table border=\"1\" class=\"dataframe\">\n",
       "  <thead>\n",
       "    <tr style=\"text-align: right;\">\n",
       "      <th></th>\n",
       "      <th>text</th>\n",
       "      <th>label</th>\n",
       "    </tr>\n",
       "  </thead>\n",
       "  <tbody>\n",
       "    <tr>\n",
       "      <th>0</th>\n",
       "      <td>Mending ngopi nyantai sambil dengar musik klas...</td>\n",
       "      <td>1</td>\n",
       "    </tr>\n",
       "    <tr>\n",
       "      <th>1</th>\n",
       "      <td>ada banyak fitur  dari Kartu Perdana &lt;PROVIDER...</td>\n",
       "      <td>1</td>\n",
       "    </tr>\n",
       "    <tr>\n",
       "      <th>2</th>\n",
       "      <td>Hari minggu masuk kerja tapi gak ada yang dike...</td>\n",
       "      <td>1</td>\n",
       "    </tr>\n",
       "    <tr>\n",
       "      <th>3</th>\n",
       "      <td>Sekarang enak belanja online. Sinyal kuat dan ...</td>\n",
       "      <td>1</td>\n",
       "    </tr>\n",
       "    <tr>\n",
       "      <th>4</th>\n",
       "      <td>Mantap! Paket &lt;PRODUCT_NAME&gt; dari &lt;PROVIDER_NA...</td>\n",
       "      <td>1</td>\n",
       "    </tr>\n",
       "    <tr>\n",
       "      <th>...</th>\n",
       "      <td>...</td>\n",
       "      <td>...</td>\n",
       "    </tr>\n",
       "    <tr>\n",
       "      <th>254</th>\n",
       "      <td>Buried ini film budget termurah dengan tingkat...</td>\n",
       "      <td>0</td>\n",
       "    </tr>\n",
       "    <tr>\n",
       "      <th>255</th>\n",
       "      <td>lalu setelah film berakhir, mikir ''ngapain no...</td>\n",
       "      <td>0</td>\n",
       "    </tr>\n",
       "    <tr>\n",
       "      <th>256</th>\n",
       "      <td>Gila, film Britney Ever After jelek banget par...</td>\n",
       "      <td>0</td>\n",
       "    </tr>\n",
       "    <tr>\n",
       "      <th>257</th>\n",
       "      <td>Film danur nggak seperti novelnya. Harapan leb...</td>\n",
       "      <td>0</td>\n",
       "    </tr>\n",
       "    <tr>\n",
       "      <th>258</th>\n",
       "      <td>ga bakal gua nonton film setan indonesia thur....</td>\n",
       "      <td>0</td>\n",
       "    </tr>\n",
       "  </tbody>\n",
       "</table>\n",
       "<p>259 rows × 2 columns</p>\n",
       "</div>"
      ],
      "text/plain": [
       "                                                  text  label\n",
       "0    Mending ngopi nyantai sambil dengar musik klas...      1\n",
       "1    ada banyak fitur  dari Kartu Perdana <PROVIDER...      1\n",
       "2    Hari minggu masuk kerja tapi gak ada yang dike...      1\n",
       "3    Sekarang enak belanja online. Sinyal kuat dan ...      1\n",
       "4    Mantap! Paket <PRODUCT_NAME> dari <PROVIDER_NA...      1\n",
       "..                                                 ...    ...\n",
       "254  Buried ini film budget termurah dengan tingkat...      0\n",
       "255  lalu setelah film berakhir, mikir ''ngapain no...      0\n",
       "256  Gila, film Britney Ever After jelek banget par...      0\n",
       "257  Film danur nggak seperti novelnya. Harapan leb...      0\n",
       "258  ga bakal gua nonton film setan indonesia thur....      0\n",
       "\n",
       "[259 rows x 2 columns]"
      ]
     },
     "execution_count": 5,
     "metadata": {},
     "output_type": "execute_result"
    }
   ],
   "source": [
    "test_x"
   ]
  },
  {
   "cell_type": "markdown",
   "metadata": {},
   "source": [
    "# PELATIHAN _MODEL CLASSIFIER_\n"
   ]
  },
  {
   "cell_type": "code",
   "execution_count": 6,
   "metadata": {},
   "outputs": [],
   "source": [
    "x = train_x['text'].tolist()\n",
    "y = train_y.tolist()\n",
    "kamus_frek = kamus_freq(x, y)"
   ]
  },
  {
   "cell_type": "code",
   "execution_count": null,
   "metadata": {},
   "outputs": [],
   "source": [
    "for x in kamus_frek.keys():\n",
    "    print(kamus_frek.get(x, 0))"
   ]
  },
  {
   "cell_type": "markdown",
   "metadata": {},
   "source": [
    "## logprior\n",
    "\n",
    "$D$ = jumlah dokumen <br>\n",
    "$D_{pos}$ = jumlah dokumen positif <br>\n",
    "$D_{neg}$ = jumlah dokumen negatif <br>\n",
    "\n",
    "### probabilitas dokumen positif\n",
    "\n",
    "$P(D_{pos}) = \\frac{D_{pos}}{D}$\n",
    "\n",
    "### probabilitas dokumen negatif\n",
    "\n",
    "$P(D_{neg}) = \\frac{D_{neg}}{D}$\n",
    "\n",
    "### probabilitas prior\n",
    "\n",
    "${logprior} = log \\left( \\frac{P(D_{pos})}{P(D_{neg})} \\right) = log \\left( \\frac{D_{pos}}{D_{neg}} \\right)$\n",
    "<br> disederhanakan, menjadi: <br>\n",
    "$logprior = P(D_{pos}) - P(D_{neg})$\n"
   ]
  },
  {
   "cell_type": "markdown",
   "metadata": {},
   "source": [
    "## loglikelihood\n",
    "\n",
    "$W$ = probabilitas positif/negatif kata <br>\n",
    "$freq$ = frekuensi kata unik yang bernilai positif/negatif <br>\n",
    "$N$ = jumlah total kata positif/negatif <br>\n",
    "$V$ = jumlah total kata unik (panjang dokumen frekuensi) <br>\n",
    "\n",
    "### probabilitas kata positif\n",
    "\n",
    "$P(W_{pos}) = \\frac{freq_{pos} + 1}{N_{pos} + V}$\n",
    "\n",
    "### probabilitas kata negatif\n",
    "\n",
    "$P(W_{neg}) = \\frac{freq_{neg} + 1}{N_{neg} + V}$\n",
    "\n",
    "### likelihood kata\n",
    "\n",
    "$\\text{loglikelihood} = \\log \\left(\\frac{P(W_{pos})}{P(W_{neg})} \\right)$\n"
   ]
  },
  {
   "cell_type": "code",
   "execution_count": 7,
   "metadata": {},
   "outputs": [],
   "source": [
    "# logprior, loglikelihood = train_nbc(kamus_frek, train_y)\n",
    "logprior = hitungPrior(kamus_frek, train_y)\n",
    "loglikelihood = hitungLikelihood(kamus_frek)\n",
    "# print(logprior)\n",
    "# print(loglikelihood)"
   ]
  },
  {
   "cell_type": "code",
   "execution_count": 7,
   "metadata": {},
   "outputs": [
    {
     "data": {
      "text/plain": [
       "0.6604204870573883"
      ]
     },
     "execution_count": 7,
     "metadata": {},
     "output_type": "execute_result"
    }
   ],
   "source": [
    "from sentiment import predict_nbc\n",
    "predict_nbc(\"bagussss\", logprior, loglikelihood)"
   ]
  },
  {
   "cell_type": "markdown",
   "metadata": {},
   "source": [
    "## HASIL PENGUJIAN MODEL\n",
    "\n",
    "-   data _training_\n",
    "-   data _testing_\n"
   ]
  },
  {
   "cell_type": "code",
   "execution_count": 13,
   "metadata": {},
   "outputs": [
    {
     "data": {
      "text/plain": [
       "'84.56%'"
      ]
     },
     "execution_count": 13,
     "metadata": {},
     "output_type": "execute_result"
    }
   ],
   "source": [
    "test = test_nbc(test_x['text'].tolist(), test_y.tolist(), logprior, loglikelihood)\n",
    "test"
   ]
  },
  {
   "cell_type": "markdown",
   "metadata": {},
   "source": [
    "## _CONFUSION MATRIX_\n"
   ]
  },
  {
   "cell_type": "markdown",
   "metadata": {},
   "source": [
    "## metrik-metrik\n",
    "\n",
    "-   TP = True Positive\n",
    "-   TN = True Negative\n",
    "-   FP = False Positive\n",
    "-   FN = False Negative\n",
    "-   Populasi = TP+TN+FP+FN\n",
    "<hr>\n",
    "\n",
    "### akurasi\n",
    "\n",
    "jumlah prediksi yang benar. tidak dianjurkan sebagai metrik kunci. <br>\n",
    "$\\frac{TP+TN}{Populasi}$\n",
    "\n",
    "### miss\n",
    "\n",
    "jumlah prediksi yang salah <br>\n",
    "$\\frac{FP+FN}{Populasi}$\n",
    "\n",
    "### presisi\n",
    "\n",
    "persentase positif yang diprediksi secara akurat. jika FP = 0, maka nilai presisi 100%. <br>\n",
    "$\\frac{TP}{TP+FP}$\n",
    "\n",
    "### sensitifitas\n",
    "\n",
    "nilai positif sesungguhnya <br>\n",
    "$\\frac{TP}{TP+FN}$\n"
   ]
  },
  {
   "cell_type": "code",
   "execution_count": 8,
   "metadata": {},
   "outputs": [],
   "source": [
    "pdc = pd.DataFrame()\n",
    "pdc = test_x\n",
    "pdc['label_prediksi'] = pdc['text'].apply(lambda x: predict_nbc(x, logprior, loglikelihood))"
   ]
  },
  {
   "cell_type": "code",
   "execution_count": 9,
   "metadata": {},
   "outputs": [],
   "source": [
    "# TODO: Do more testing with thresholds values from 0, 0.5, 0.8, 0.9, 1\n",
    "# * to note;\n",
    "# treshold = -0.03272669350255697\n",
    "# * default treshold is 0\n",
    "def toLabel(x):\n",
    "   if x > 0:\n",
    "       return 1\n",
    "   elif x < 0:\n",
    "       return 0\n",
    "   else:\n",
    "       return \"n\"\n",
    "pdc['prediksi'] = pdc['label_prediksi'].apply(lambda x: toLabel(x))"
   ]
  },
  {
   "cell_type": "code",
   "execution_count": 10,
   "metadata": {},
   "outputs": [
    {
     "data": {
      "text/html": [
       "<div>\n",
       "<style scoped>\n",
       "    .dataframe tbody tr th:only-of-type {\n",
       "        vertical-align: middle;\n",
       "    }\n",
       "\n",
       "    .dataframe tbody tr th {\n",
       "        vertical-align: top;\n",
       "    }\n",
       "\n",
       "    .dataframe thead th {\n",
       "        text-align: right;\n",
       "    }\n",
       "</style>\n",
       "<table border=\"1\" class=\"dataframe\">\n",
       "  <thead>\n",
       "    <tr style=\"text-align: right;\">\n",
       "      <th></th>\n",
       "      <th>text</th>\n",
       "      <th>label</th>\n",
       "      <th>label_prediksi</th>\n",
       "      <th>prediksi</th>\n",
       "    </tr>\n",
       "  </thead>\n",
       "  <tbody>\n",
       "    <tr>\n",
       "      <th>0</th>\n",
       "      <td>Mending ngopi nyantai sambil dengar musik klas...</td>\n",
       "      <td>1</td>\n",
       "      <td>5.739512</td>\n",
       "      <td>1</td>\n",
       "    </tr>\n",
       "    <tr>\n",
       "      <th>1</th>\n",
       "      <td>ada banyak fitur  dari Kartu Perdana &lt;PROVIDER...</td>\n",
       "      <td>1</td>\n",
       "      <td>-5.238374</td>\n",
       "      <td>0</td>\n",
       "    </tr>\n",
       "    <tr>\n",
       "      <th>2</th>\n",
       "      <td>Hari minggu masuk kerja tapi gak ada yang dike...</td>\n",
       "      <td>1</td>\n",
       "      <td>-0.864432</td>\n",
       "      <td>0</td>\n",
       "    </tr>\n",
       "    <tr>\n",
       "      <th>3</th>\n",
       "      <td>Sekarang enak belanja online. Sinyal kuat dan ...</td>\n",
       "      <td>1</td>\n",
       "      <td>-1.381235</td>\n",
       "      <td>0</td>\n",
       "    </tr>\n",
       "    <tr>\n",
       "      <th>4</th>\n",
       "      <td>Mantap! Paket &lt;PRODUCT_NAME&gt; dari &lt;PROVIDER_NA...</td>\n",
       "      <td>1</td>\n",
       "      <td>3.384933</td>\n",
       "      <td>1</td>\n",
       "    </tr>\n",
       "    <tr>\n",
       "      <th>...</th>\n",
       "      <td>...</td>\n",
       "      <td>...</td>\n",
       "      <td>...</td>\n",
       "      <td>...</td>\n",
       "    </tr>\n",
       "    <tr>\n",
       "      <th>254</th>\n",
       "      <td>Buried ini film budget termurah dengan tingkat...</td>\n",
       "      <td>0</td>\n",
       "      <td>-0.119738</td>\n",
       "      <td>0</td>\n",
       "    </tr>\n",
       "    <tr>\n",
       "      <th>255</th>\n",
       "      <td>lalu setelah film berakhir, mikir ''ngapain no...</td>\n",
       "      <td>0</td>\n",
       "      <td>-4.292054</td>\n",
       "      <td>0</td>\n",
       "    </tr>\n",
       "    <tr>\n",
       "      <th>256</th>\n",
       "      <td>Gila, film Britney Ever After jelek banget par...</td>\n",
       "      <td>0</td>\n",
       "      <td>-5.034438</td>\n",
       "      <td>0</td>\n",
       "    </tr>\n",
       "    <tr>\n",
       "      <th>257</th>\n",
       "      <td>Film danur nggak seperti novelnya. Harapan leb...</td>\n",
       "      <td>0</td>\n",
       "      <td>-6.098780</td>\n",
       "      <td>0</td>\n",
       "    </tr>\n",
       "    <tr>\n",
       "      <th>258</th>\n",
       "      <td>ga bakal gua nonton film setan indonesia thur....</td>\n",
       "      <td>0</td>\n",
       "      <td>-4.500405</td>\n",
       "      <td>0</td>\n",
       "    </tr>\n",
       "  </tbody>\n",
       "</table>\n",
       "<p>259 rows × 4 columns</p>\n",
       "</div>"
      ],
      "text/plain": [
       "                                                  text  label  label_prediksi  \\\n",
       "0    Mending ngopi nyantai sambil dengar musik klas...      1        5.739512   \n",
       "1    ada banyak fitur  dari Kartu Perdana <PROVIDER...      1       -5.238374   \n",
       "2    Hari minggu masuk kerja tapi gak ada yang dike...      1       -0.864432   \n",
       "3    Sekarang enak belanja online. Sinyal kuat dan ...      1       -1.381235   \n",
       "4    Mantap! Paket <PRODUCT_NAME> dari <PROVIDER_NA...      1        3.384933   \n",
       "..                                                 ...    ...             ...   \n",
       "254  Buried ini film budget termurah dengan tingkat...      0       -0.119738   \n",
       "255  lalu setelah film berakhir, mikir ''ngapain no...      0       -4.292054   \n",
       "256  Gila, film Britney Ever After jelek banget par...      0       -5.034438   \n",
       "257  Film danur nggak seperti novelnya. Harapan leb...      0       -6.098780   \n",
       "258  ga bakal gua nonton film setan indonesia thur....      0       -4.500405   \n",
       "\n",
       "     prediksi  \n",
       "0           1  \n",
       "1           0  \n",
       "2           0  \n",
       "3           0  \n",
       "4           1  \n",
       "..        ...  \n",
       "254         0  \n",
       "255         0  \n",
       "256         0  \n",
       "257         0  \n",
       "258         0  \n",
       "\n",
       "[259 rows x 4 columns]"
      ]
     },
     "execution_count": 10,
     "metadata": {},
     "output_type": "execute_result"
    }
   ],
   "source": [
    "pdc"
   ]
  },
  {
   "cell_type": "code",
   "execution_count": 11,
   "metadata": {},
   "outputs": [
    {
     "data": {
      "text/html": [
       "<div>\n",
       "<style scoped>\n",
       "    .dataframe tbody tr th:only-of-type {\n",
       "        vertical-align: middle;\n",
       "    }\n",
       "\n",
       "    .dataframe tbody tr th {\n",
       "        vertical-align: top;\n",
       "    }\n",
       "\n",
       "    .dataframe thead th {\n",
       "        text-align: right;\n",
       "    }\n",
       "</style>\n",
       "<table border=\"1\" class=\"dataframe\">\n",
       "  <thead>\n",
       "    <tr style=\"text-align: right;\">\n",
       "      <th>Predicted</th>\n",
       "      <th>0</th>\n",
       "      <th>1</th>\n",
       "    </tr>\n",
       "    <tr>\n",
       "      <th>Actual</th>\n",
       "      <th></th>\n",
       "      <th></th>\n",
       "    </tr>\n",
       "  </thead>\n",
       "  <tbody>\n",
       "    <tr>\n",
       "      <th>0</th>\n",
       "      <td>123</td>\n",
       "      <td>9</td>\n",
       "    </tr>\n",
       "    <tr>\n",
       "      <th>1</th>\n",
       "      <td>49</td>\n",
       "      <td>78</td>\n",
       "    </tr>\n",
       "  </tbody>\n",
       "</table>\n",
       "</div>"
      ],
      "text/plain": [
       "Predicted    0   1\n",
       "Actual            \n",
       "0          123   9\n",
       "1           49  78"
      ]
     },
     "execution_count": 11,
     "metadata": {},
     "output_type": "execute_result"
    }
   ],
   "source": [
    "conf_matrix = pd.crosstab(pdc['label'], pdc['prediksi'], rownames=['Actual'], colnames=['Predicted'])\n",
    "conf_matrix"
   ]
  },
  {
   "cell_type": "code",
   "execution_count": 12,
   "metadata": {},
   "outputs": [
    {
     "name": "stdout",
     "output_type": "stream",
     "text": [
      "pop=259\n",
      "akurasi:0.7760617760617761, miss:0.22393822393822393, presisi: 0.896551724137931, sensi: 0.6141732283464567.\n",
      " F1:0.7289719626168225\n"
     ]
    }
   ],
   "source": [
    "tn = 123\n",
    "fn = 49\n",
    "tp = 78\n",
    "fp = 9\n",
    "pop = tn+tp+fn+fp\n",
    "a = (tn+tp)/pop\n",
    "m = (fp+fn)/pop\n",
    "p = tp/(tp+fp)\n",
    "s = tp/(tp+fn)\n",
    "print(f\"pop={pop}\\nakurasi:{a}, miss:{m}, presisi: {p}, sensi: {s}.\\n F1:{2*(p*s)/(p+s)}\")"
   ]
  },
  {
   "cell_type": "code",
   "execution_count": null,
   "metadata": {},
   "outputs": [],
   "source": [
    "pdc"
   ]
  },
  {
   "cell_type": "code",
   "execution_count": 15,
   "metadata": {},
   "outputs": [
    {
     "name": "stderr",
     "output_type": "stream",
     "text": [
      "Matplotlib is building the font cache; this may take a moment.\n"
     ]
    },
    {
     "data": {
      "image/png": "[encoded data removed]",
      "text/plain": [
       "<Figure size 432x288 with 2 Axes>"
      ]
     },
     "metadata": {
      "needs_background": "light"
     },
     "output_type": "display_data"
    }
   ],
   "source": [
    "import seaborn as sn\n",
    "import matplotlib.pyplot as plt\n",
    "\n",
    "sn.heatmap(conf_matrix, annot=True, fmt='g')\n",
    "plt.show()"
   ]
  },
  {
   "cell_type": "markdown",
   "metadata": {},
   "source": [
    "# UJI CLASSIFIER PADA ARTIKEL BERITA\n"
   ]
  },
  {
   "cell_type": "code",
   "execution_count": null,
   "metadata": {},
   "outputs": [],
   "source": [
    "berita = open('berita.txt', 'r')\n",
    "berita = berita.read()"
   ]
  },
  {
   "cell_type": "code",
   "execution_count": null,
   "metadata": {},
   "outputs": [],
   "source": [
    "beritanormal = normalisasi(berita)\n",
    "frekberita = freqs(beritanormal)\n",
    "# frekberita"
   ]
  },
  {
   "cell_type": "markdown",
   "metadata": {},
   "source": [
    "## SENTIMEN ARTIKEL KESELURUHAN\n"
   ]
  },
  {
   "cell_type": "code",
   "execution_count": null,
   "metadata": {},
   "outputs": [],
   "source": [
    "predict_nbc(berita, logprior, loglikelihood)"
   ]
  },
  {
   "cell_type": "markdown",
   "metadata": {},
   "source": [
    "## SENTIMEN ARTIKEL PER_KALIMAT\n"
   ]
  },
  {
   "cell_type": "code",
   "execution_count": null,
   "metadata": {},
   "outputs": [],
   "source": [
    "from nltk.tokenize import sent_tokenize\n",
    "x = pd.DataFrame()\n",
    "kalimat = sent_tokenize(berita)\n",
    "x['kalimat'] = kalimat\n",
    "x['kalimat_normal'] = x['kalimat'].apply(lambda x: normalisasi(x))"
   ]
  },
  {
   "cell_type": "code",
   "execution_count": null,
   "metadata": {},
   "outputs": [],
   "source": [
    "x['label_prediksi'] = x['kalimat'].apply(lambda x: predict_nbc(x, logprior, loglikelihood))"
   ]
  },
  {
   "cell_type": "code",
   "execution_count": null,
   "metadata": {},
   "outputs": [],
   "source": [
    "x['prediksi'] = x['label_prediksi'].apply(lambda x: toLabel(x))\n",
    "x"
   ]
  },
  {
   "cell_type": "markdown",
   "metadata": {},
   "source": [
    "## SENTIMEN ARTIKEL PER_KATA\n"
   ]
  },
  {
   "cell_type": "code",
   "execution_count": null,
   "metadata": {},
   "outputs": [],
   "source": [
    "berita_normal = normalisasi(berita)"
   ]
  },
  {
   "cell_type": "code",
   "execution_count": null,
   "metadata": {},
   "outputs": [],
   "source": [
    "# * predict_nbc per-kata\n",
    "def predict_perkata(text, logpri, loglik):\n",
    "    l = []\n",
    "    for w in text:\n",
    "        x = predict_nbc(w, logpri, loglik)\n",
    "        l.append({\n",
    "            \"kata\":w,\n",
    "            \"skor\":x\n",
    "            })\n",
    "    return l"
   ]
  },
  {
   "cell_type": "code",
   "execution_count": null,
   "metadata": {},
   "outputs": [],
   "source": [
    "hasil = predict_perkata(berita_normal, logprior, loglikelihood)\n",
    "type(hasil[0])"
   ]
  },
  {
   "cell_type": "code",
   "execution_count": null,
   "metadata": {},
   "outputs": [],
   "source": [
    "hasil"
   ]
  },
  {
   "cell_type": "code",
   "execution_count": null,
   "metadata": {},
   "outputs": [],
   "source": [
    "logprior"
   ]
  },
  {
   "cell_type": "code",
   "execution_count": null,
   "metadata": {},
   "outputs": [],
   "source": [
    "import csv\n",
    "keys = hasil[0].keys()\n",
    "\n",
    "with open('demo-kata.csv', 'w', newline='') as file:\n",
    "    dict_writer = csv.DictWriter(file, keys)\n",
    "    dict_writer.writeheader()\n",
    "    dict_writer.writerows(hasil)"
   ]
  }
 ],
 "metadata": {
  "kernelspec": {
   "display_name": "Python 3.8.12 ('analisis-sentimen-naive-bayes-TsMnn7d4')",
   "language": "python",
   "name": "python3"
  },
  "language_info": {
   "codemirror_mode": {
    "name": "ipython",
    "version": 3
   },
   "file_extension": ".py",
   "mimetype": "text/x-python",
   "name": "python",
   "nbconvert_exporter": "python",
   "pygments_lexer": "ipython3",
   "version": "3.8.12"
  },
  "orig_nbformat": 4,
  "vscode": {
   "interpreter": {
    "hash": "6ae47f95440d1b9e894a7616647b08b93b0b0191ab4551829de60d6a9373aad9"
   }
  }
 },
 "nbformat": 4,
 "nbformat_minor": 2
}
