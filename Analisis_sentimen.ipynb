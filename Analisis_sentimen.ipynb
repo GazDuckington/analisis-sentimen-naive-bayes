{
 "cells": [
  {
   "cell_type": "code",
   "execution_count": 8,
   "source": [
    "import nltk\n",
    "# nltk.download('punkt', download_dir='NLTK_DATA')\n",
    "# nltk.download('stopwords', download_dir='NLTK_DATA')\n",
    "nltk.data.path.append(\"NLTK_DATA\")\n",
    "import pandas as pd\n",
    "import numpy as np\n",
    "from processing import *\n",
    "from sentiment import *"
   ],
   "outputs": [],
   "metadata": {}
  },
  {
   "cell_type": "markdown",
   "source": [
    "# PREPARASI *TRAINING DATASET*"
   ],
   "metadata": {}
  },
  {
   "cell_type": "code",
   "execution_count": 9,
   "source": [
    "# TODO: pindah ke sqlite\n",
    "dataset = pd.read_csv(\"dataset/training_dataset.csv\")\n",
    "all_pos = dataset[dataset['label'] == 1]\n",
    "all_neg = dataset[dataset['label'] == 0]\n",
    "\n",
    "\n",
    "# * Training data: 80% pertama\n",
    "# * Testing data: 20% terakhir\n",
    "train_pos = all_pos.iloc[:int(len(all_pos)*0.8),:]\n",
    "train_neg = all_neg.iloc[:int(len(all_neg)*0.8),:]\n",
    "test_pos = all_pos.iloc[:int(len(all_pos)*0.2):]\n",
    "test_neg = all_neg.iloc[:int(len(all_neg)*0.2):]\n",
    "\n",
    "train_x = train_pos.append(train_neg, ignore_index=True)\n",
    "test_x = test_pos.append(test_neg, ignore_index=True)\n",
    "\n",
    "train_y = np.append(np.ones(len(train_pos)), np.zeros(len(train_neg)))\n",
    "test_y = np.append(np.ones(len(test_pos)), np.zeros(len(test_neg)))"
   ],
   "outputs": [],
   "metadata": {}
  },
  {
   "cell_type": "code",
   "execution_count": 10,
   "source": [
    "ld = len(dataset)\n",
    "trp = len(train_pos)\n",
    "tng = len(train_neg)\n",
    "tsp = len(test_pos)\n",
    "tsn = len(test_neg)\n",
    "print(f\"dataset: {ld} \\n train pos: {trp} \\n train neg: {tng} \\n test pos: {tsp} \\n test neg: {tsn}\")"
   ],
   "outputs": [
    {
     "output_type": "stream",
     "name": "stdout",
     "text": [
      "dataset: 1300 \n",
      " train pos: 511 \n",
      " train neg: 528 \n",
      " test pos: 127 \n",
      " test neg: 132\n"
     ]
    }
   ],
   "metadata": {}
  },
  {
   "cell_type": "markdown",
   "source": [
    "# PELATIHAN *MODEL CLASSIFIER*"
   ],
   "metadata": {}
  },
  {
   "cell_type": "code",
   "execution_count": 11,
   "source": [
    "x = train_x['text']\n",
    "y = train_y\n",
    "kamus_frek = kamus_freq(x, y)"
   ],
   "outputs": [],
   "metadata": {}
  },
  {
   "cell_type": "code",
   "execution_count": 12,
   "source": [
    "logprior, loglikelihood = train_nbc(kamus_frek, train_x, train_y)"
   ],
   "outputs": [],
   "metadata": {}
  },
  {
   "cell_type": "code",
   "execution_count": 32,
   "source": [
    "xkamus = kamus_freq(dataset['text'], dataset['label'])"
   ],
   "outputs": [],
   "metadata": {}
  },
  {
   "cell_type": "code",
   "execution_count": 33,
   "source": [
    "xprior, xlikelihood = train_nbc(xkamus, dataset['text'], dataset['label'])"
   ],
   "outputs": [],
   "metadata": {}
  },
  {
   "cell_type": "code",
   "execution_count": 34,
   "source": [
    "xtest = test_nbc(dataset['text'], dataset['label'], xprior, xlikelihood)\n",
    "xtest"
   ],
   "outputs": [
    {
     "output_type": "execute_result",
     "data": {
      "text/plain": [
       "0.9815384615384616"
      ]
     },
     "metadata": {},
     "execution_count": 34
    }
   ],
   "metadata": {}
  },
  {
   "cell_type": "markdown",
   "source": [
    "## HASIL PENGUJIAN MODEL\n",
    "- data *training*\n",
    "- data *testing*"
   ],
   "metadata": {}
  },
  {
   "cell_type": "code",
   "execution_count": 13,
   "source": [
    "hasil_uji = test_nbc(x, y, logprior, loglikelihood)\n",
    "hasil_uji"
   ],
   "outputs": [
    {
     "output_type": "execute_result",
     "data": {
      "text/plain": [
       "0.9749759384023099"
      ]
     },
     "metadata": {},
     "execution_count": 13
    }
   ],
   "metadata": {}
  },
  {
   "cell_type": "code",
   "execution_count": 14,
   "source": [
    "test = test_nbc(test_x['text'], test_y, logprior, loglikelihood)\n",
    "test"
   ],
   "outputs": [
    {
     "output_type": "execute_result",
     "data": {
      "text/plain": [
       "0.9845559845559846"
      ]
     },
     "metadata": {},
     "execution_count": 14
    }
   ],
   "metadata": {}
  },
  {
   "cell_type": "markdown",
   "source": [
    "## UJI KESELURUHAN *DATASET*"
   ],
   "metadata": {}
  },
  {
   "cell_type": "code",
   "execution_count": 15,
   "source": [
    "data_test = test_nbc(dataset['text'], dataset['label'], logprior, loglikelihood)\n",
    "data_test"
   ],
   "outputs": [
    {
     "output_type": "execute_result",
     "data": {
      "text/plain": [
       "0.9484615384615385"
      ]
     },
     "metadata": {},
     "execution_count": 15
    }
   ],
   "metadata": {}
  },
  {
   "cell_type": "markdown",
   "source": [
    "## *CONFUSION MATRIX*"
   ],
   "metadata": {}
  },
  {
   "cell_type": "code",
   "execution_count": 16,
   "source": [
    "pdc = pd.DataFrame()\n",
    "pdc = dataset\n",
    "pdc['label_prediksi'] = pdc['text'].apply(lambda x: predict_nbc(x, logprior, loglikelihood))"
   ],
   "outputs": [],
   "metadata": {}
  },
  {
   "cell_type": "code",
   "execution_count": 17,
   "source": [
    "def toLabel(x):\n",
    "    if x > 0:\n",
    "        return 1\n",
    "    elif x < 0:\n",
    "        return 0\n",
    "    else:\n",
    "        return \"n\"\n",
    "pdc['prediksi'] = pdc['label_prediksi'].apply(lambda x: toLabel(x))"
   ],
   "outputs": [],
   "metadata": {}
  },
  {
   "cell_type": "code",
   "execution_count": 18,
   "source": [
    "pdc"
   ],
   "outputs": [
    {
     "output_type": "execute_result",
     "data": {
      "text/html": [
       "<div>\n",
       "<style scoped>\n",
       "    .dataframe tbody tr th:only-of-type {\n",
       "        vertical-align: middle;\n",
       "    }\n",
       "\n",
       "    .dataframe tbody tr th {\n",
       "        vertical-align: top;\n",
       "    }\n",
       "\n",
       "    .dataframe thead th {\n",
       "        text-align: right;\n",
       "    }\n",
       "</style>\n",
       "<table border=\"1\" class=\"dataframe\">\n",
       "  <thead>\n",
       "    <tr style=\"text-align: right;\">\n",
       "      <th></th>\n",
       "      <th>text</th>\n",
       "      <th>label</th>\n",
       "      <th>label_prediksi</th>\n",
       "      <th>prediksi</th>\n",
       "    </tr>\n",
       "  </thead>\n",
       "  <tbody>\n",
       "    <tr>\n",
       "      <th>0</th>\n",
       "      <td>&lt;USERNAME&gt; TOLOL!! Gak ada hubungan nya kegug...</td>\n",
       "      <td>0</td>\n",
       "      <td>-28.469450</td>\n",
       "      <td>0</td>\n",
       "    </tr>\n",
       "    <tr>\n",
       "      <th>1</th>\n",
       "      <td>Geblek lo tata...cowo bgt dibela2in balikan......</td>\n",
       "      <td>0</td>\n",
       "      <td>-6.972478</td>\n",
       "      <td>0</td>\n",
       "    </tr>\n",
       "    <tr>\n",
       "      <th>2</th>\n",
       "      <td>Kmrn termewek2 skr lengket lg duhhh kok labil ...</td>\n",
       "      <td>0</td>\n",
       "      <td>-10.987958</td>\n",
       "      <td>0</td>\n",
       "    </tr>\n",
       "    <tr>\n",
       "      <th>3</th>\n",
       "      <td>Intinya kalau kesel dengan ATT nya, gausah ke ...</td>\n",
       "      <td>0</td>\n",
       "      <td>-27.500376</td>\n",
       "      <td>0</td>\n",
       "    </tr>\n",
       "    <tr>\n",
       "      <th>4</th>\n",
       "      <td>hadewwwww permpuan itu lg!!!!sakit jiwa,knp ha...</td>\n",
       "      <td>0</td>\n",
       "      <td>-11.574943</td>\n",
       "      <td>0</td>\n",
       "    </tr>\n",
       "    <tr>\n",
       "      <th>...</th>\n",
       "      <td>...</td>\n",
       "      <td>...</td>\n",
       "      <td>...</td>\n",
       "      <td>...</td>\n",
       "    </tr>\n",
       "    <tr>\n",
       "      <th>1295</th>\n",
       "      <td>Fargo juga adaptasi dari film yang cukup berha...</td>\n",
       "      <td>1</td>\n",
       "      <td>-0.014899</td>\n",
       "      <td>0</td>\n",
       "    </tr>\n",
       "    <tr>\n",
       "      <th>1296</th>\n",
       "      <td>637.000 waw ini sangat keren flm horor dng jum...</td>\n",
       "      <td>1</td>\n",
       "      <td>3.765355</td>\n",
       "      <td>1</td>\n",
       "    </tr>\n",
       "    <tr>\n",
       "      <th>1297</th>\n",
       "      <td>@filmziarah film yang tenang dan menghanyutkan...</td>\n",
       "      <td>1</td>\n",
       "      <td>-0.278355</td>\n",
       "      <td>0</td>\n",
       "    </tr>\n",
       "    <tr>\n",
       "      <th>1298</th>\n",
       "      <td>Film yg amat menarik. Kisah cinta &amp; kesetiaan ...</td>\n",
       "      <td>1</td>\n",
       "      <td>3.855516</td>\n",
       "      <td>1</td>\n",
       "    </tr>\n",
       "    <tr>\n",
       "      <th>1299</th>\n",
       "      <td>Nntn @filmziarah , film bagus, ada kali 5 meni...</td>\n",
       "      <td>1</td>\n",
       "      <td>-4.788818</td>\n",
       "      <td>0</td>\n",
       "    </tr>\n",
       "  </tbody>\n",
       "</table>\n",
       "<p>1300 rows × 4 columns</p>\n",
       "</div>"
      ],
      "text/plain": [
       "                                                   text  label  \\\n",
       "0      <USERNAME> TOLOL!! Gak ada hubungan nya kegug...      0   \n",
       "1     Geblek lo tata...cowo bgt dibela2in balikan......      0   \n",
       "2     Kmrn termewek2 skr lengket lg duhhh kok labil ...      0   \n",
       "3     Intinya kalau kesel dengan ATT nya, gausah ke ...      0   \n",
       "4     hadewwwww permpuan itu lg!!!!sakit jiwa,knp ha...      0   \n",
       "...                                                 ...    ...   \n",
       "1295  Fargo juga adaptasi dari film yang cukup berha...      1   \n",
       "1296  637.000 waw ini sangat keren flm horor dng jum...      1   \n",
       "1297  @filmziarah film yang tenang dan menghanyutkan...      1   \n",
       "1298  Film yg amat menarik. Kisah cinta & kesetiaan ...      1   \n",
       "1299  Nntn @filmziarah , film bagus, ada kali 5 meni...      1   \n",
       "\n",
       "      label_prediksi  prediksi  \n",
       "0         -28.469450         0  \n",
       "1          -6.972478         0  \n",
       "2         -10.987958         0  \n",
       "3         -27.500376         0  \n",
       "4         -11.574943         0  \n",
       "...              ...       ...  \n",
       "1295       -0.014899         0  \n",
       "1296        3.765355         1  \n",
       "1297       -0.278355         0  \n",
       "1298        3.855516         1  \n",
       "1299       -4.788818         0  \n",
       "\n",
       "[1300 rows x 4 columns]"
      ]
     },
     "metadata": {},
     "execution_count": 18
    }
   ],
   "metadata": {}
  },
  {
   "cell_type": "code",
   "execution_count": 19,
   "source": [
    "conf_matrix = pd.crosstab(pdc['label'], pdc['prediksi'], rownames=['Actual'], colnames=['Predicted'])\n",
    "conf_matrix"
   ],
   "outputs": [
    {
     "output_type": "execute_result",
     "data": {
      "text/html": [
       "<div>\n",
       "<style scoped>\n",
       "    .dataframe tbody tr th:only-of-type {\n",
       "        vertical-align: middle;\n",
       "    }\n",
       "\n",
       "    .dataframe tbody tr th {\n",
       "        vertical-align: top;\n",
       "    }\n",
       "\n",
       "    .dataframe thead th {\n",
       "        text-align: right;\n",
       "    }\n",
       "</style>\n",
       "<table border=\"1\" class=\"dataframe\">\n",
       "  <thead>\n",
       "    <tr style=\"text-align: right;\">\n",
       "      <th>Predicted</th>\n",
       "      <th>0</th>\n",
       "      <th>1</th>\n",
       "    </tr>\n",
       "    <tr>\n",
       "      <th>Actual</th>\n",
       "      <th></th>\n",
       "      <th></th>\n",
       "    </tr>\n",
       "  </thead>\n",
       "  <tbody>\n",
       "    <tr>\n",
       "      <th>0</th>\n",
       "      <td>647</td>\n",
       "      <td>14</td>\n",
       "    </tr>\n",
       "    <tr>\n",
       "      <th>1</th>\n",
       "      <td>81</td>\n",
       "      <td>558</td>\n",
       "    </tr>\n",
       "  </tbody>\n",
       "</table>\n",
       "</div>"
      ],
      "text/plain": [
       "Predicted    0    1\n",
       "Actual             \n",
       "0          647   14\n",
       "1           81  558"
      ]
     },
     "metadata": {},
     "execution_count": 19
    }
   ],
   "metadata": {}
  },
  {
   "cell_type": "code",
   "execution_count": 20,
   "source": [
    "tp = 558\n",
    "tn = 647\n",
    "fp = 14\n",
    "fn = 81\n",
    "pop = tp+tn+fp+fn\n",
    "acc = (tp+tn)/pop\n",
    "mis = (fp+fn)/pop\n",
    "pre = tp/(tp+fp)\n",
    "sen = tp/(tp+fn)\n",
    "print(f\"akurasi: {acc}\\nmis-klasifikasi: {mis}\\npresisi: {pre}\\nsensitivitas: {sen}\")"
   ],
   "outputs": [
    {
     "output_type": "stream",
     "name": "stdout",
     "text": [
      "akurasi: 0.926923076923077\n",
      "mis-klasifikasi: 0.07307692307692308\n",
      "presisi: 0.9755244755244755\n",
      "sensitivitas: 0.8732394366197183\n"
     ]
    }
   ],
   "metadata": {}
  },
  {
   "cell_type": "code",
   "execution_count": 21,
   "source": [
    "import seaborn as sn\n",
    "import matplotlib.pyplot as plt\n",
    "\n",
    "sn.heatmap(conf_matrix, annot=True, fmt='g')\n",
    "plt.show()"
   ],
   "outputs": [
    {
     "output_type": "stream",
     "name": "stderr",
     "text": [
      "Matplotlib is building the font cache; this may take a moment.\n"
     ]
    },
    {
     "output_type": "display_data",
     "data": {
      "image/png": "[encoded data removed]",
      "text/plain": [
       "<Figure size 432x288 with 2 Axes>"
      ]
     },
     "metadata": {
      "needs_background": "light"
     }
    }
   ],
   "metadata": {}
  },
  {
   "cell_type": "markdown",
   "source": [
    "# UJI CLASSIFIER PADA ARTIKEL BERITA"
   ],
   "metadata": {}
  },
  {
   "cell_type": "code",
   "execution_count": 22,
   "source": [
    "berita = open('berita.txt', 'r')\n",
    "berita = berita.read()"
   ],
   "outputs": [],
   "metadata": {}
  },
  {
   "cell_type": "markdown",
   "source": [
    "## SENTIMEN ARTIKEL KESELURUHAN"
   ],
   "metadata": {}
  },
  {
   "cell_type": "code",
   "execution_count": 23,
   "source": [
    "predict_nbc(berita, logprior, loglikelihood)"
   ],
   "outputs": [
    {
     "output_type": "execute_result",
     "data": {
      "text/plain": [
       "-33.3003778808566"
      ]
     },
     "metadata": {},
     "execution_count": 23
    }
   ],
   "metadata": {}
  },
  {
   "cell_type": "markdown",
   "source": [
    "## SENTIMEN ARTIKEL PER_KALIMAT"
   ],
   "metadata": {}
  },
  {
   "cell_type": "code",
   "execution_count": 24,
   "source": [
    "from nltk.tokenize import sent_tokenize\n",
    "x = pd.DataFrame()\n",
    "kalimat = sent_tokenize(berita)\n",
    "x['kalimat'] = kalimat\n",
    "x['kalimat_normal'] = x['kalimat'].apply(lambda x: normalisasi(x))"
   ],
   "outputs": [],
   "metadata": {}
  },
  {
   "cell_type": "code",
   "execution_count": 25,
   "source": [
    "x['label_prediksi'] = x['kalimat'].apply(lambda x: predict_nbc(x, logprior, loglikelihood))"
   ],
   "outputs": [],
   "metadata": {}
  },
  {
   "cell_type": "code",
   "execution_count": 26,
   "source": [
    "x"
   ],
   "outputs": [
    {
     "output_type": "execute_result",
     "data": {
      "text/html": [
       "<div>\n",
       "<style scoped>\n",
       "    .dataframe tbody tr th:only-of-type {\n",
       "        vertical-align: middle;\n",
       "    }\n",
       "\n",
       "    .dataframe tbody tr th {\n",
       "        vertical-align: top;\n",
       "    }\n",
       "\n",
       "    .dataframe thead th {\n",
       "        text-align: right;\n",
       "    }\n",
       "</style>\n",
       "<table border=\"1\" class=\"dataframe\">\n",
       "  <thead>\n",
       "    <tr style=\"text-align: right;\">\n",
       "      <th></th>\n",
       "      <th>kalimat</th>\n",
       "      <th>kalimat_normal</th>\n",
       "      <th>label_prediksi</th>\n",
       "    </tr>\n",
       "  </thead>\n",
       "  <tbody>\n",
       "    <tr>\n",
       "      <th>0</th>\n",
       "      <td>BEIJING, KOMPAS.com - China pada Selasa (10/8/...</td>\n",
       "      <td>[beijing, kompas, china, selasa, tari, utus, l...</td>\n",
       "      <td>-2.345609</td>\n",
       "    </tr>\n",
       "    <tr>\n",
       "      <th>1</th>\n",
       "      <td>Taiwan pada Juli mengatakan akan mendirikan ka...</td>\n",
       "      <td>[taiwan, juli, kantor, wakil, vilnius, kota, l...</td>\n",
       "      <td>-2.631575</td>\n",
       "    </tr>\n",
       "    <tr>\n",
       "      <th>2</th>\n",
       "      <td>China menganggap Taiwan bukanlah negara yang b...</td>\n",
       "      <td>[china, anggap, taiwan, negara, daulat, wilayah]</td>\n",
       "      <td>-2.521066</td>\n",
       "    </tr>\n",
       "    <tr>\n",
       "      <th>3</th>\n",
       "      <td>Kementerian Luar Negeri China marah dan pada S...</td>\n",
       "      <td>[menteri, negeri, china, marah, selasa, perint...</td>\n",
       "      <td>1.176804</td>\n",
       "    </tr>\n",
       "    <tr>\n",
       "      <th>4</th>\n",
       "      <td>Keputusan Lithuania mengizinkan Taiwan mendiri...</td>\n",
       "      <td>[putus, lithuania, izin, taiwan, kantor, wakil...</td>\n",
       "      <td>-2.183572</td>\n",
       "    </tr>\n",
       "    <tr>\n",
       "      <th>5</th>\n",
       "      <td>Selain itu, Kementerian Luar Negeri China meni...</td>\n",
       "      <td>[menteri, negeri, china, nilai, lithuania, ber...</td>\n",
       "      <td>-3.240881</td>\n",
       "    </tr>\n",
       "    <tr>\n",
       "      <th>6</th>\n",
       "      <td>China yang mengklaim Taiwan sebagai bagiannya ...</td>\n",
       "      <td>[china, klaim, taiwan, janji, rebut, keras]</td>\n",
       "      <td>-1.711852</td>\n",
       "    </tr>\n",
       "    <tr>\n",
       "      <th>7</th>\n",
       "      <td>China mencoba membuat Taiwan tetap terisolasi ...</td>\n",
       "      <td>[china, coba, taiwan, isolasi, panggung, dunia...</td>\n",
       "      <td>-1.746056</td>\n",
       "    </tr>\n",
       "    <tr>\n",
       "      <th>8</th>\n",
       "      <td>Kementerian Luar Negeri China pada Selasa (10/...</td>\n",
       "      <td>[menteri, negeri, china, selasa, desak, lithua...</td>\n",
       "      <td>0.664262</td>\n",
       "    </tr>\n",
       "    <tr>\n",
       "      <th>9</th>\n",
       "      <td>Kementerian Luar Negeri Lithuania menanggapi d...</td>\n",
       "      <td>[menteri, negeri, lithuania, tanggap, kecewa, ...</td>\n",
       "      <td>-1.541953</td>\n",
       "    </tr>\n",
       "    <tr>\n",
       "      <th>10</th>\n",
       "      <td>\"Sambil menghormati prinsip satu China, (Lithu...</td>\n",
       "      <td>[hormat, prinsip, china, lithuania, tekad, kem...</td>\n",
       "      <td>0.766190</td>\n",
       "    </tr>\n",
       "    <tr>\n",
       "      <th>11</th>\n",
       "      <td>Uni Eropa mengunngkapkan \"kekecewaan\" atas lan...</td>\n",
       "      <td>[uni, eropa, mengunngkapkan, kecewa, langkah, ...</td>\n",
       "      <td>-1.136488</td>\n",
       "    </tr>\n",
       "    <tr>\n",
       "      <th>12</th>\n",
       "      <td>\"Kami tidak menganggap pembukaan kantor perwak...</td>\n",
       "      <td>[anggap, buka, kantor, wakil, taiwan, lawan, d...</td>\n",
       "      <td>-3.205330</td>\n",
       "    </tr>\n",
       "    <tr>\n",
       "      <th>13</th>\n",
       "      <td>\"Ini adalah pertama kalinya China menarik seor...</td>\n",
       "      <td>[kali, china, tarik, orang, duta, negara, angg...</td>\n",
       "      <td>-2.392743</td>\n",
       "    </tr>\n",
       "    <tr>\n",
       "      <th>14</th>\n",
       "      <td>Di Taipei, kementerian luar negeri menyebut Li...</td>\n",
       "      <td>[taipei, menteri, negeri, lithuania, mitra, pi...</td>\n",
       "      <td>-0.323841</td>\n",
       "    </tr>\n",
       "    <tr>\n",
       "      <th>15</th>\n",
       "      <td>\"Berdasarkan nilai-nilai universal demokrasi, ...</td>\n",
       "      <td>[dasar, nilai, universal, demokrasi, bebas, ha...</td>\n",
       "      <td>-3.097878</td>\n",
       "    </tr>\n",
       "    <tr>\n",
       "      <th>16</th>\n",
       "      <td>Pembukaan kantor Vilnius adalah tanda terbaru ...</td>\n",
       "      <td>[buka, kantor, vilnius, tanda, negara, baltik,...</td>\n",
       "      <td>-0.784962</td>\n",
       "    </tr>\n",
       "    <tr>\n",
       "      <th>17</th>\n",
       "      <td>Pada Mei 2021, Lithuania mengumumkan akan kelu...</td>\n",
       "      <td>[mei, lithuania, forum, kerjasama, china, nega...</td>\n",
       "      <td>0.651839</td>\n",
       "    </tr>\n",
       "    <tr>\n",
       "      <th>18</th>\n",
       "      <td>Sejak saat itu, Lithuania berjanji untuk menyu...</td>\n",
       "      <td>[lithuania, janji, sumbang, dosis, vaksin, vir...</td>\n",
       "      <td>1.350135</td>\n",
       "    </tr>\n",
       "    <tr>\n",
       "      <th>19</th>\n",
       "      <td>Pada 2019, Ceko membatalkan perjanjian kota ke...</td>\n",
       "      <td>[ceko, batal, janji, kota, kembar, beijing, me...</td>\n",
       "      <td>-1.424170</td>\n",
       "    </tr>\n",
       "    <tr>\n",
       "      <th>20</th>\n",
       "      <td>Kemudian pada 2020, pemimpin senat Ceko Milos ...</td>\n",
       "      <td>[pimpin, senat, ceko, milos, vystrcil, laku, k...</td>\n",
       "      <td>-2.069456</td>\n",
       "    </tr>\n",
       "    <tr>\n",
       "      <th>21</th>\n",
       "      <td>China memutuskan kontak resmi dengan Taiwan da...</td>\n",
       "      <td>[china, putus, kontak, resmi, taiwan, tingkat,...</td>\n",
       "      <td>-0.154637</td>\n",
       "    </tr>\n",
       "    <tr>\n",
       "      <th>22</th>\n",
       "      <td>Lalu, Tsai memenangkan kembali pemilihan denga...</td>\n",
       "      <td>[tsai, menang, pilih, telak]</td>\n",
       "      <td>1.889132</td>\n",
       "    </tr>\n",
       "    <tr>\n",
       "      <th>23</th>\n",
       "      <td>Ia menolak sikap China bahwa Taian adalah bagi...</td>\n",
       "      <td>[tolak, sikap, china, taian, china, usaha, tah...</td>\n",
       "      <td>-3.807148</td>\n",
       "    </tr>\n",
       "    <tr>\n",
       "      <th>24</th>\n",
       "      <td>Beijing dalam beberapa tahun terakhir membujuk...</td>\n",
       "      <td>[beijing, bujuk, sekutu, diplomatik, taiwan, a...</td>\n",
       "      <td>-4.264965</td>\n",
       "    </tr>\n",
       "  </tbody>\n",
       "</table>\n",
       "</div>"
      ],
      "text/plain": [
       "                                              kalimat  \\\n",
       "0   BEIJING, KOMPAS.com - China pada Selasa (10/8/...   \n",
       "1   Taiwan pada Juli mengatakan akan mendirikan ka...   \n",
       "2   China menganggap Taiwan bukanlah negara yang b...   \n",
       "3   Kementerian Luar Negeri China marah dan pada S...   \n",
       "4   Keputusan Lithuania mengizinkan Taiwan mendiri...   \n",
       "5   Selain itu, Kementerian Luar Negeri China meni...   \n",
       "6   China yang mengklaim Taiwan sebagai bagiannya ...   \n",
       "7   China mencoba membuat Taiwan tetap terisolasi ...   \n",
       "8   Kementerian Luar Negeri China pada Selasa (10/...   \n",
       "9   Kementerian Luar Negeri Lithuania menanggapi d...   \n",
       "10  \"Sambil menghormati prinsip satu China, (Lithu...   \n",
       "11  Uni Eropa mengunngkapkan \"kekecewaan\" atas lan...   \n",
       "12  \"Kami tidak menganggap pembukaan kantor perwak...   \n",
       "13  \"Ini adalah pertama kalinya China menarik seor...   \n",
       "14  Di Taipei, kementerian luar negeri menyebut Li...   \n",
       "15  \"Berdasarkan nilai-nilai universal demokrasi, ...   \n",
       "16  Pembukaan kantor Vilnius adalah tanda terbaru ...   \n",
       "17  Pada Mei 2021, Lithuania mengumumkan akan kelu...   \n",
       "18  Sejak saat itu, Lithuania berjanji untuk menyu...   \n",
       "19  Pada 2019, Ceko membatalkan perjanjian kota ke...   \n",
       "20  Kemudian pada 2020, pemimpin senat Ceko Milos ...   \n",
       "21  China memutuskan kontak resmi dengan Taiwan da...   \n",
       "22  Lalu, Tsai memenangkan kembali pemilihan denga...   \n",
       "23  Ia menolak sikap China bahwa Taian adalah bagi...   \n",
       "24  Beijing dalam beberapa tahun terakhir membujuk...   \n",
       "\n",
       "                                       kalimat_normal  label_prediksi  \n",
       "0   [beijing, kompas, china, selasa, tari, utus, l...       -2.345609  \n",
       "1   [taiwan, juli, kantor, wakil, vilnius, kota, l...       -2.631575  \n",
       "2    [china, anggap, taiwan, negara, daulat, wilayah]       -2.521066  \n",
       "3   [menteri, negeri, china, marah, selasa, perint...        1.176804  \n",
       "4   [putus, lithuania, izin, taiwan, kantor, wakil...       -2.183572  \n",
       "5   [menteri, negeri, china, nilai, lithuania, ber...       -3.240881  \n",
       "6         [china, klaim, taiwan, janji, rebut, keras]       -1.711852  \n",
       "7   [china, coba, taiwan, isolasi, panggung, dunia...       -1.746056  \n",
       "8   [menteri, negeri, china, selasa, desak, lithua...        0.664262  \n",
       "9   [menteri, negeri, lithuania, tanggap, kecewa, ...       -1.541953  \n",
       "10  [hormat, prinsip, china, lithuania, tekad, kem...        0.766190  \n",
       "11  [uni, eropa, mengunngkapkan, kecewa, langkah, ...       -1.136488  \n",
       "12  [anggap, buka, kantor, wakil, taiwan, lawan, d...       -3.205330  \n",
       "13  [kali, china, tarik, orang, duta, negara, angg...       -2.392743  \n",
       "14  [taipei, menteri, negeri, lithuania, mitra, pi...       -0.323841  \n",
       "15  [dasar, nilai, universal, demokrasi, bebas, ha...       -3.097878  \n",
       "16  [buka, kantor, vilnius, tanda, negara, baltik,...       -0.784962  \n",
       "17  [mei, lithuania, forum, kerjasama, china, nega...        0.651839  \n",
       "18  [lithuania, janji, sumbang, dosis, vaksin, vir...        1.350135  \n",
       "19  [ceko, batal, janji, kota, kembar, beijing, me...       -1.424170  \n",
       "20  [pimpin, senat, ceko, milos, vystrcil, laku, k...       -2.069456  \n",
       "21  [china, putus, kontak, resmi, taiwan, tingkat,...       -0.154637  \n",
       "22                       [tsai, menang, pilih, telak]        1.889132  \n",
       "23  [tolak, sikap, china, taian, china, usaha, tah...       -3.807148  \n",
       "24  [beijing, bujuk, sekutu, diplomatik, taiwan, a...       -4.264965  "
      ]
     },
     "metadata": {},
     "execution_count": 26
    }
   ],
   "metadata": {}
  },
  {
   "cell_type": "markdown",
   "source": [
    "## SENTIMEN ARTIKEL PER_KATA"
   ],
   "metadata": {}
  },
  {
   "cell_type": "code",
   "execution_count": 27,
   "source": [
    "berita_normal = normalisasi(berita)"
   ],
   "outputs": [],
   "metadata": {}
  },
  {
   "cell_type": "code",
   "execution_count": 28,
   "source": [
    "# * predict_nbc per-kata\n",
    "def predict_perkata(text, logpri, loglik):\n",
    "    l = []\n",
    "    for w in text:\n",
    "        x = predict_nbc(w, logpri, loglik)\n",
    "        l.append({\n",
    "            w,\n",
    "            x\n",
    "            })\n",
    "    return l"
   ],
   "outputs": [],
   "metadata": {}
  },
  {
   "cell_type": "code",
   "execution_count": 29,
   "source": [
    "predict_perkata(berita_normal, logprior, loglikelihood)"
   ],
   "outputs": [
    {
     "output_type": "execute_result",
     "data": {
      "text/plain": [
       "[{-0.03272669350255697, 'beijing'},\n",
       " {-0.03272669350255697, 'kompas'},\n",
       " {-0.03272669350255697, 'china'},\n",
       " {-0.03272669350255697, 'selasa'},\n",
       " {0.6587042394965325, 'tari'},\n",
       " {-0.03272669350255697, 'utus'},\n",
       " {-0.03272669350255697, 'lithuania'},\n",
       " {-0.03272669350255697, 'beijing'},\n",
       " {-0.03272669350255697, 'vilnius'},\n",
       " {-0.03272669350255697, 'izin'},\n",
       " {-0.03272669350255697, 'taiwan'},\n",
       " {-0.03272669350255697, 'kantor'},\n",
       " {-1.826202410291468, 'negara'},\n",
       " {-0.5452685648294038, 'buah'},\n",
       " {0.6587042394965325, 'langkah'},\n",
       " {-0.03272669350255697, 'anggap'},\n",
       " {-0.7275901216233582, 'provokatif'},\n",
       " {-0.7275901216233582, 'perintah'},\n",
       " {-0.03272669350255697, 'china'},\n",
       " {-0.03272669350255697, 'taiwan'},\n",
       " {-0.03272669350255697, 'juli'},\n",
       " {-0.03272669350255697, 'kantor'},\n",
       " {-0.7275901216233582, 'wakil'},\n",
       " {-0.03272669350255697, 'vilnius'},\n",
       " {-0.7275901216233583, 'kota'},\n",
       " {-0.03272669350255697, 'lithuania'},\n",
       " {-0.5452685648294038, 'buah'},\n",
       " {0.6587042394965325, 'langkah'},\n",
       " {-0.03272669350255697, 'anggap'},\n",
       " {-0.03272669350255697, 'china'},\n",
       " {-1.4207373021833034, 'hina'},\n",
       " {-0.03272669350255697, 'diplomatik'},\n",
       " {-0.03272669350255697, 'china'},\n",
       " {-0.03272669350255697, 'anggap'},\n",
       " {-0.03272669350255697, 'taiwan'},\n",
       " {-1.826202410291468, 'negara'},\n",
       " {-0.03272669350255697, 'daulat'},\n",
       " {-0.7275901216233582, 'wilayah'},\n",
       " {-0.03272669350255697, 'menteri'},\n",
       " {-0.03272669350255697, 'negeri'},\n",
       " {-0.03272669350255697, 'china'},\n",
       " {-0.3221250135151938, 'marah'},\n",
       " {-0.03272669350255697, 'selasa'},\n",
       " {-0.7275901216233582, 'perintah'},\n",
       " {-0.03272669350255697, 'lithuania'},\n",
       " {1.0641693476046967, 'tarik'},\n",
       " {-0.03272669350255697, 'duta'},\n",
       " {-0.03272669350255697, 'china'},\n",
       " {1.0641693476046967, 'tarik'},\n",
       " {-0.03272669350255697, 'utus'},\n",
       " {-0.03272669350255697, 'china'},\n",
       " {-0.03272669350255697, 'lithuania'},\n",
       " {-0.03272669350255697, 'lansir'},\n",
       " {-0.03272669350255697, 'afp'},\n",
       " {-0.03272669350255697, 'selasa'},\n",
       " {0.18870061025079668, 'putus'},\n",
       " {-0.03272669350255697, 'lithuania'},\n",
       " {-0.03272669350255697, 'izin'},\n",
       " {-0.03272669350255697, 'taiwan'},\n",
       " {-0.03272669350255697, 'kantor'},\n",
       " {-0.7275901216233582, 'wakil'},\n",
       " {-0.03272669350255697, 'anggap'},\n",
       " {-1.015272194075139, 'rusak'},\n",
       " {-0.03272669350255697, 'daulat'},\n",
       " {-0.7275901216233582, 'integritas'},\n",
       " {-0.03272669350255697, 'teritorial'},\n",
       " {-0.03272669350255697, 'china'},\n",
       " {-0.03272669350255697, 'menteri'},\n",
       " {-0.03272669350255697, 'negeri'},\n",
       " {-0.03272669350255697, 'china'},\n",
       " {-1.1330552297315226, 'nilai'},\n",
       " {-0.03272669350255697, 'lithuania'},\n",
       " {-0.2167644978573677, 'berani'},\n",
       " {-0.7275901216233582, 'langgar'},\n",
       " {-0.03444294106341289, 'atur'},\n",
       " {-1.258218372685529, 'dasar'},\n",
       " {-0.034442941063413, 'hubung'},\n",
       " {-0.03272669350255697, 'diplomatik'},\n",
       " {-0.03272669350255697, 'china'},\n",
       " {-0.03272669350255697, 'china'},\n",
       " {-0.03272669350255697, 'klaim'},\n",
       " {-0.03272669350255697, 'taiwan'},\n",
       " {0.6587042394965325, 'janji'},\n",
       " {-2.113884482743249, 'rebut'},\n",
       " {-0.3221250135151938, 'keras'},\n",
       " {-0.03272669350255697, 'china'},\n",
       " {-0.950733672937568, 'coba'},\n",
       " {-0.03272669350255697, 'taiwan'},\n",
       " {-0.03272669350255697, 'isolasi'},\n",
       " {-0.7275901216233582, 'panggung'},\n",
       " {-0.129753120867738, 'dunia'},\n",
       " {-1.1330552297315226, 'tolak'},\n",
       " {-0.03272669350255697, 'taiwan'},\n",
       " {-0.03272669350255697, 'resmi'},\n",
       " {-0.03272669350255697, 'pulau'},\n",
       " {-0.03272669350255697, 'legitimasi'},\n",
       " {1.0641693476046967, 'internasional'},\n",
       " {-0.03272669350255697, 'menteri'},\n",
       " {-0.03272669350255697, 'negeri'},\n",
       " {-0.03272669350255697, 'china'},\n",
       " {-0.03272669350255697, 'selasa'},\n",
       " {-0.03272669350255697, 'desak'},\n",
       " {-0.03272669350255697, 'lithuania'},\n",
       " {0.18870061025079668, 'putus'},\n",
       " {0.553343723838706, 'salah'},\n",
       " {-1.1330552297315226, 'gerak'},\n",
       " {0.3710221670447515, 'jalan'},\n",
       " {0.553343723838706, 'salah'},\n",
       " {-0.03272669350255697, 'menteri'},\n",
       " {-0.03272669350255697, 'negeri'},\n",
       " {-0.03272669350255697, 'lithuania'},\n",
       " {-1.1330552297315226, 'tanggap'},\n",
       " {-1.1330552297315226, 'kecewa'},\n",
       " {0.6587042394965325, 'langkah'},\n",
       " {-0.03272669350255697, 'china'},\n",
       " {0.6587042394965323, 'hormat'},\n",
       " {0.6587042394965325, 'prinsip'},\n",
       " {-0.03272669350255697, 'china'},\n",
       " {-0.03272669350255697, 'lithuania'},\n",
       " {-0.03272669350255697, 'tekad'},\n",
       " {-0.7275901216233582, 'kembang'},\n",
       " {-0.034442941063413, 'hubung'},\n",
       " {1.0641693476046967, 'untung'},\n",
       " {-0.03272669350255697, 'taiwan'},\n",
       " {-0.7275901216233582, 'bunyi'},\n",
       " {-0.3221250135151938, 'nyata'},\n",
       " {-0.03272669350255697, 'menteri'},\n",
       " {-0.03272669350255697, 'negeri'},\n",
       " {-0.03272669350255697, 'lithuania'},\n",
       " {-0.03272669350255697, 'uni'},\n",
       " {-0.03272669350255697, 'eropa'},\n",
       " {-0.03272669350255697, 'mengunngkapkan'},\n",
       " {-1.1330552297315226, 'kecewa'},\n",
       " {0.6587042394965325, 'langkah'},\n",
       " {-0.03272669350255697, 'beijing'},\n",
       " {-0.7275901216233582, 'kembang'},\n",
       " {-0.03272669350255697, 'cermat'},\n",
       " {-0.03272669350255697, 'anggap'},\n",
       " {0.9463863119483132, 'buka'},\n",
       " {-0.03272669350255697, 'kantor'},\n",
       " {-0.7275901216233582, 'wakil'},\n",
       " {-0.03272669350255697, 'taiwan'},\n",
       " {-1.1330552297315226, 'lawan'},\n",
       " {-0.03272669350255697, 'duta'},\n",
       " {-0.03272669350255697, 'konsulat'},\n",
       " {-0.7275901216233582, 'langgar'},\n",
       " {-0.4399080491715774, 'bijak'},\n",
       " {-0.03272669350255697, 'china'},\n",
       " {-0.03272669350255697, 'ue'},\n",
       " {-0.03272669350255697, 'juru'},\n",
       " {-1.287205909558781, 'bicara'},\n",
       " {-0.03272669350255697, 'blok'},\n",
       " {-0.275604997880301, 'kali'},\n",
       " {-0.03272669350255697, 'china'},\n",
       " {1.0641693476046967, 'tarik'},\n",
       " {-1.0426711682632537, 'orang'},\n",
       " {-0.03272669350255697, 'duta'},\n",
       " {-1.826202410291468, 'negara'},\n",
       " {-0.7275901216233582, 'anggota'},\n",
       " {-0.03272669350255697, 'uni'},\n",
       " {-0.03272669350255697, 'eropa'},\n",
       " {-0.03272669350255697, 'perihal'},\n",
       " {0.9463863119483132, 'buka'},\n",
       " {-0.7275901216233582, 'tahan'},\n",
       " {-0.03272669350255697, 'kantor'},\n",
       " {-0.03272669350255697, 'taiwan'},\n",
       " {-0.03272669350255697, 'ue'},\n",
       " {-0.03272669350255697, 'taipei'},\n",
       " {-0.03272669350255697, 'menteri'},\n",
       " {-0.03272669350255697, 'negeri'},\n",
       " {-0.03272669350255697, 'lithuania'},\n",
       " {0.6587042394965325, 'mitra'},\n",
       " {-1.015272194075139, 'pikir'},\n",
       " {-0.03272669350255697, 'taiwan'},\n",
       " {-1.258218372685529, 'dasar'},\n",
       " {-1.1330552297315226, 'nilai'},\n",
       " {-0.03272669350255697, 'universal'},\n",
       " {-0.03272669350255697, 'demokrasi'},\n",
       " {-0.4399080491715774, 'bebas'},\n",
       " {-0.2575864923776229, 'hak'},\n",
       " {-0.03272669350255697, 'asasi'},\n",
       " {-0.6704317077834098, 'manusia'},\n",
       " {1.0641693476046967, 'belah'},\n",
       " {-0.7275901216233582, 'tingkat'},\n",
       " {0.6587042394965325, 'tukar'},\n",
       " {0.6587042394965325, 'bidang'},\n",
       " {-0.03272669350255697, 'juru'},\n",
       " {-1.287205909558781, 'bicara'},\n",
       " {-0.03272669350255697, 'ue'},\n",
       " {-0.03272669350255697, 'joanne'},\n",
       " {-0.03272669350255697, 'ou'},\n",
       " {0.9463863119483132, 'buka'},\n",
       " {-0.03272669350255697, 'kantor'},\n",
       " {-0.03272669350255697, 'vilnius'},\n",
       " {0.6587042394965325, 'tanda'},\n",
       " {-1.826202410291468, 'negara'},\n",
       " {-0.03272669350255697, 'baltik'},\n",
       " {-0.03272669350255697, 'eropa'},\n",
       " {-0.3709151776846259, 'cari'},\n",
       " {-0.034442941063413, 'hubung'},\n",
       " {-0.03272669350255697, 'taiwan'},\n",
       " {-0.3221250135151938, 'marah'},\n",
       " {-0.03272669350255697, 'china'},\n",
       " {1.3518514200564777, 'mei'},\n",
       " {-0.03272669350255697, 'lithuania'},\n",
       " {-0.03272669350255697, 'forum'},\n",
       " {-0.03272669350255697, 'kerjasama'},\n",
       " {-0.03272669350255697, 'china'},\n",
       " {-1.826202410291468, 'negara'},\n",
       " {-0.03272669350255697, 'eropa'},\n",
       " {-1.1330552297315226, 'timur'},\n",
       " {-0.03272669350255697, 'forum'},\n",
       " {1.0641693476046967, 'pecah'},\n",
       " {1.0641693476046967, 'belah'},\n",
       " {-0.03272669350255697, 'lithuania'},\n",
       " {0.6587042394965325, 'janji'},\n",
       " {0.6587042394965325, 'sumbang'},\n",
       " {-0.03272669350255697, 'dosis'},\n",
       " {-0.03272669350255697, 'vaksin'},\n",
       " {-0.03272669350255697, 'virus'},\n",
       " {-0.03272669350255697, 'corona'},\n",
       " {-0.03272669350255697, 'taiwan'},\n",
       " {-0.03272669350255697, 'ceko'},\n",
       " {-1.4207373021833034, 'batal'},\n",
       " {0.6587042394965325, 'janji'},\n",
       " {-0.7275901216233583, 'kota'},\n",
       " {-0.03272669350255697, 'kembar'},\n",
       " {-0.03272669350255697, 'beijing'},\n",
       " {-0.03272669350255697, 'menandatanganinya'},\n",
       " {-0.03272669350255697, 'taipei'},\n",
       " {0.25323913138836796, 'pimpin'},\n",
       " {-0.03272669350255697, 'senat'},\n",
       " {-0.03272669350255697, 'ceko'},\n",
       " {-0.03272669350255697, 'milos'},\n",
       " {-0.03272669350255697, 'vystrcil'},\n",
       " {-1.369444007795753, 'laku'},\n",
       " {-0.03444294106341289, 'kunjung'},\n",
       " {-0.7275901216233582, 'tingkat'},\n",
       " {-0.03272669350255697, 'taiwan'},\n",
       " {-0.3221250135151938, 'marah'},\n",
       " {-0.03272669350255697, 'china'},\n",
       " {-0.03272669350255697, 'china'},\n",
       " {0.18870061025079668, 'putus'},\n",
       " {-0.03272669350255697, 'kontak'},\n",
       " {-0.03272669350255697, 'resmi'},\n",
       " {-0.03272669350255697, 'taiwan'},\n",
       " {-0.7275901216233582, 'tingkat'},\n",
       " {-0.7275901216233582, 'tekan'},\n",
       " {-0.03272669350255697, 'diplomatik'},\n",
       " {0.09908845156110971, 'pilih'},\n",
       " {0.881847790810742, 'presiden'},\n",
       " {-0.03272669350255697, 'tsai'},\n",
       " {-0.03272669350255697, 'ingwen'},\n",
       " {-0.03272669350255697, 'tsai'},\n",
       " {1.7573165281646421, 'menang'},\n",
       " {0.09908845156110971, 'pilih'},\n",
       " {-0.03272669350255697, 'telak'},\n",
       " {-1.1330552297315226, 'tolak'},\n",
       " {-0.4399080491715774, 'sikap'},\n",
       " {-0.03272669350255697, 'china'},\n",
       " {-0.03272669350255697, 'taian'},\n",
       " {-0.03272669350255697, 'china'},\n",
       " {0.18870061025079668, 'usaha'},\n",
       " {-0.7275901216233582, 'tahan'},\n",
       " {-0.03272669350255697, 'taiwan'},\n",
       " {-1.826202410291468, 'negara'},\n",
       " {-0.03272669350255697, 'daulat'},\n",
       " {-0.03272669350255697, 'de'},\n",
       " {-0.03272669350255697, 'facto'},\n",
       " {-0.03272669350255697, 'beijing'},\n",
       " {-0.03272669350255697, 'bujuk'},\n",
       " {-0.03272669350255697, 'sekutu'},\n",
       " {-0.03272669350255697, 'diplomatik'},\n",
       " {-0.03272669350255697, 'taiwan'},\n",
       " {-0.03272669350255697, 'alih'},\n",
       " {-1.369444007795753, 'laku'},\n",
       " {-0.7275901216233582, 'tekan'},\n",
       " {-1.1330552297315226, 'ancam'},\n",
       " {-0.03272669350255697, 'insentif'},\n",
       " {-1.1330552297315226, 'ekonomi'}]"
      ]
     },
     "metadata": {},
     "execution_count": 29
    }
   ],
   "metadata": {}
  }
 ],
 "metadata": {
  "orig_nbformat": 4,
  "language_info": {
   "name": "python",
   "version": "3.8.12",
   "mimetype": "text/x-python",
   "codemirror_mode": {
    "name": "ipython",
    "version": 3
   },
   "pygments_lexer": "ipython3",
   "nbconvert_exporter": "python",
   "file_extension": ".py"
  },
  "kernelspec": {
   "name": "python3",
   "display_name": "Python 3.8.12 64-bit ('analisis-sentimen-naive-bayes-RPxRJ-iK': venv)"
  },
  "interpreter": {
   "hash": "4c64a1dff5bec6469b38e4563bdc85bc9a4f55ce3d843d30767037b90879fe2f"
  }
 },
 "nbformat": 4,
 "nbformat_minor": 2
}