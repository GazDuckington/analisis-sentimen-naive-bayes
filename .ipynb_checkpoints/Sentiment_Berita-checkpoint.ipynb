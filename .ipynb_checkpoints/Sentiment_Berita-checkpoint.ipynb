{
 "cells": [
  {
   "cell_type": "code",
   "execution_count": 1,
   "metadata": {},
   "outputs": [],
   "source": [
    "from sentiment import *\n",
    "from processing import *\n",
    "import pandas as pd\n",
    "import numpy as np\n",
    "import itertools\n",
    "import matplotlib.pyplot as plt"
   ]
  },
  {
   "cell_type": "code",
   "execution_count": 2,
   "metadata": {},
   "outputs": [],
   "source": [
    "train = pd.read_csv(\"dataset/training_dataset.csv\")\n",
    "# perfectly balanced as all things should be\n",
    "allpos = train[train['label']==1]\n",
    "allneg = train[train['label']==0]\n",
    "# splitting\n",
    "test_pos = allpos[int(len(allpos)*0.2):]\n",
    "train_pos = allpos[:int(len(allpos)*0.8)]\n",
    "test_neg = allneg[int(len(allneg)*0.2):]\n",
    "train_neg = allneg[:int(len(allneg)*0.8)]\n",
    "# trainig data\n",
    "train_x = pd.concat([train_pos, train_neg])\n",
    "test_x = pd.concat([test_pos, test_neg])\n",
    "# testing data\n",
    "train_y = np.append(np.ones(len(train_pos)), np.zeros(len(train_neg)))\n",
    "test_y = np.append(np.ones(len(test_pos)), np.zeros(len(test_neg)))"
   ]
  },
  {
   "cell_type": "code",
   "execution_count": null,
   "metadata": {},
   "outputs": [],
   "source": [
    "frek = kamus_freq(train['text'],train['label'])"
   ]
  },
  {
   "cell_type": "markdown",
   "metadata": {},
   "source": [
    "rumus Prior: \n",
    "$$P(N)=\\frac{Npos}{Npos+Nneg}$$\n",
    "Npos = jumlah N positif <br/>\n",
    "Nneg = jumlah N negatif"
   ]
  },
  {
   "cell_type": "code",
   "execution_count": null,
   "metadata": {},
   "outputs": [],
   "source": [
    "logprior, loglikelihood = train_nbc(frek, train_y)"
   ]
  },
  {
   "cell_type": "code",
   "execution_count": null,
   "metadata": {},
   "outputs": [],
   "source": [
    "logprior"
   ]
  },
  {
   "cell_type": "code",
   "execution_count": null,
   "metadata": {},
   "outputs": [],
   "source": [
    "artikel = pd.read_csv(\"dataset/gnews.csv\")\n",
    "frek_artikel = freqs(normalisasi(artikel['content']))"
   ]
  },
  {
   "cell_type": "code",
   "execution_count": null,
   "metadata": {},
   "outputs": [],
   "source": [
    "posi = pd.read_csv('tmp1.csv', index_col=False)\n",
    "nega = pd.read_csv('tmp0.csv', index_col=False)\n",
    "# x=nega[nega['key']==posi['key']]\n",
    "# y=posi[posi['key']==nega['key']]\n",
    "# z = x[x['key']=='udh']['frequency']"
   ]
  },
  {
   "cell_type": "code",
   "execution_count": null,
   "metadata": {},
   "outputs": [],
   "source": [
    "test_nbc(test_x['text'], test_y, logprior, loglikelihood)"
   ]
  },
  {
   "cell_type": "code",
   "execution_count": null,
   "metadata": {},
   "outputs": [],
   "source": [
    "posi['probalitiy'] = posi['key'].apply(lambda x: predict_nbc(x, logprior, loglikelihood))"
   ]
  },
  {
   "cell_type": "code",
   "execution_count": null,
   "metadata": {},
   "outputs": [],
   "source": [
    "nega['probalitiy'] = nega['key'].apply(lambda x: predict_nbc(x, logprior, loglikelihood))"
   ]
  },
  {
   "cell_type": "code",
   "execution_count": null,
   "metadata": {},
   "outputs": [],
   "source": [
    "train['prob'] = train['text'].apply(lambda x: predict_nbc(x, logprior, loglikelihood))\n",
    "train"
   ]
  },
  {
   "cell_type": "code",
   "execution_count": null,
   "metadata": {},
   "outputs": [],
   "source": []
  }
 ],
 "metadata": {
  "colab": {
   "collapsed_sections": [],
   "name": "Sentiment-Berita.ipynb",
   "provenance": []
  },
  "interpreter": {
   "hash": "aaa67d890ea8bb41dc26b0c81bc12f548227943700da809dd194e1da57a45501"
  },
  "kernelspec": {
   "display_name": "Python 3 (ipykernel)",
   "language": "python",
   "name": "python3"
  },
  "language_info": {
   "codemirror_mode": {
    "name": "ipython",
    "version": 3
   },
   "file_extension": ".py",
   "mimetype": "text/x-python",
   "name": "python",
   "nbconvert_exporter": "python",
   "pygments_lexer": "ipython3",
   "version": "3.8.11"
  },
  "metadata": {
   "interpreter": {
    "hash": "aaa67d890ea8bb41dc26b0c81bc12f548227943700da809dd194e1da57a45501"
   }
  }
 },
 "nbformat": 4,
 "nbformat_minor": 1
}
